{
  "nbformat": 4,
  "nbformat_minor": 0,
  "metadata": {
    "colab": {
      "name": "Task #2-Stock Market Prediction And Forecasting Using Stacked LSTM:",
      "provenance": [],
      "collapsed_sections": [],
      "authorship_tag": "ABX9TyNCyvLCMQbLgpcutOeoL004",
      "include_colab_link": true
    },
    "kernelspec": {
      "name": "python3",
      "display_name": "Python 3"
    },
    "language_info": {
      "name": "python"
    }
  },
  "cells": [
    {
      "cell_type": "markdown",
      "metadata": {
        "id": "view-in-github",
        "colab_type": "text"
      },
      "source": [
        "<a href=\"https://colab.research.google.com/github/SoumyoNathTripathy/LGMVIP-DataScience/blob/main/Task_2_Stock_Market_Prediction_And_Forecasting_Using_Stacked_LSTM_.ipynb\" target=\"_parent\"><img src=\"https://colab.research.google.com/assets/colab-badge.svg\" alt=\"Open In Colab\"/></a>"
      ]
    },
    {
      "cell_type": "markdown",
      "metadata": {
        "id": "c0nnNNpl1o8N"
      },
      "source": [
        "# Author- SOUMYO NATH TRIPATHY.\n",
        "\n",
        "# **LETS GROW MORE**\n",
        "\n",
        "Task 2- **Stock Market Prediction And Forecasting Using Stacked LSTM**.\n",
        "\n",
        "Level- **Beginner**.\n",
        "\n",
        "Dataset Link- https://raw.githubusercontent.com/mwitiderrick/stockprice/master/NSE-TATAGLOBAL.csv\n"
      ]
    },
    {
      "cell_type": "markdown",
      "metadata": {
        "id": "4_Mm8uXH45Or"
      },
      "source": [
        "**(Importing Library)**"
      ]
    },
    {
      "cell_type": "code",
      "metadata": {
        "id": "2gYqHQim1R2s"
      },
      "source": [
        "import pandas as pd\n",
        "import matplotlib.pyplot as plt\n",
        "import numpy as np "
      ],
      "execution_count": null,
      "outputs": []
    },
    {
      "cell_type": "code",
      "metadata": {
        "colab": {
          "base_uri": "https://localhost:8080/",
          "height": 204
        },
        "id": "ajHs7Qi37rHe",
        "outputId": "03a3a48b-5736-48b7-ad7f-2df47846b6cd"
      },
      "source": [
        "df=pd.read_csv('https://raw.githubusercontent.com/mwitiderrick/stockprice/master/NSE-TATAGLOBAL.csv')\n",
        "df.head()"
      ],
      "execution_count": null,
      "outputs": [
        {
          "output_type": "execute_result",
          "data": {
            "text/html": [
              "<div>\n",
              "<style scoped>\n",
              "    .dataframe tbody tr th:only-of-type {\n",
              "        vertical-align: middle;\n",
              "    }\n",
              "\n",
              "    .dataframe tbody tr th {\n",
              "        vertical-align: top;\n",
              "    }\n",
              "\n",
              "    .dataframe thead th {\n",
              "        text-align: right;\n",
              "    }\n",
              "</style>\n",
              "<table border=\"1\" class=\"dataframe\">\n",
              "  <thead>\n",
              "    <tr style=\"text-align: right;\">\n",
              "      <th></th>\n",
              "      <th>Date</th>\n",
              "      <th>Open</th>\n",
              "      <th>High</th>\n",
              "      <th>Low</th>\n",
              "      <th>Last</th>\n",
              "      <th>Close</th>\n",
              "      <th>Total Trade Quantity</th>\n",
              "      <th>Turnover (Lacs)</th>\n",
              "    </tr>\n",
              "  </thead>\n",
              "  <tbody>\n",
              "    <tr>\n",
              "      <th>0</th>\n",
              "      <td>2018-09-28</td>\n",
              "      <td>234.05</td>\n",
              "      <td>235.95</td>\n",
              "      <td>230.20</td>\n",
              "      <td>233.50</td>\n",
              "      <td>233.75</td>\n",
              "      <td>3069914</td>\n",
              "      <td>7162.35</td>\n",
              "    </tr>\n",
              "    <tr>\n",
              "      <th>1</th>\n",
              "      <td>2018-09-27</td>\n",
              "      <td>234.55</td>\n",
              "      <td>236.80</td>\n",
              "      <td>231.10</td>\n",
              "      <td>233.80</td>\n",
              "      <td>233.25</td>\n",
              "      <td>5082859</td>\n",
              "      <td>11859.95</td>\n",
              "    </tr>\n",
              "    <tr>\n",
              "      <th>2</th>\n",
              "      <td>2018-09-26</td>\n",
              "      <td>240.00</td>\n",
              "      <td>240.00</td>\n",
              "      <td>232.50</td>\n",
              "      <td>235.00</td>\n",
              "      <td>234.25</td>\n",
              "      <td>2240909</td>\n",
              "      <td>5248.60</td>\n",
              "    </tr>\n",
              "    <tr>\n",
              "      <th>3</th>\n",
              "      <td>2018-09-25</td>\n",
              "      <td>233.30</td>\n",
              "      <td>236.75</td>\n",
              "      <td>232.00</td>\n",
              "      <td>236.25</td>\n",
              "      <td>236.10</td>\n",
              "      <td>2349368</td>\n",
              "      <td>5503.90</td>\n",
              "    </tr>\n",
              "    <tr>\n",
              "      <th>4</th>\n",
              "      <td>2018-09-24</td>\n",
              "      <td>233.55</td>\n",
              "      <td>239.20</td>\n",
              "      <td>230.75</td>\n",
              "      <td>234.00</td>\n",
              "      <td>233.30</td>\n",
              "      <td>3423509</td>\n",
              "      <td>7999.55</td>\n",
              "    </tr>\n",
              "  </tbody>\n",
              "</table>\n",
              "</div>"
            ],
            "text/plain": [
              "         Date    Open    High  ...   Close  Total Trade Quantity  Turnover (Lacs)\n",
              "0  2018-09-28  234.05  235.95  ...  233.75               3069914          7162.35\n",
              "1  2018-09-27  234.55  236.80  ...  233.25               5082859         11859.95\n",
              "2  2018-09-26  240.00  240.00  ...  234.25               2240909          5248.60\n",
              "3  2018-09-25  233.30  236.75  ...  236.10               2349368          5503.90\n",
              "4  2018-09-24  233.55  239.20  ...  233.30               3423509          7999.55\n",
              "\n",
              "[5 rows x 8 columns]"
            ]
          },
          "metadata": {},
          "execution_count": 2
        }
      ]
    },
    {
      "cell_type": "code",
      "metadata": {
        "colab": {
          "base_uri": "https://localhost:8080/",
          "height": 204
        },
        "id": "bpiUSKBi8aUE",
        "outputId": "222c4c3b-0acc-4bf8-8868-1b5042d3dba9"
      },
      "source": [
        "df.tail()"
      ],
      "execution_count": null,
      "outputs": [
        {
          "output_type": "execute_result",
          "data": {
            "text/html": [
              "<div>\n",
              "<style scoped>\n",
              "    .dataframe tbody tr th:only-of-type {\n",
              "        vertical-align: middle;\n",
              "    }\n",
              "\n",
              "    .dataframe tbody tr th {\n",
              "        vertical-align: top;\n",
              "    }\n",
              "\n",
              "    .dataframe thead th {\n",
              "        text-align: right;\n",
              "    }\n",
              "</style>\n",
              "<table border=\"1\" class=\"dataframe\">\n",
              "  <thead>\n",
              "    <tr style=\"text-align: right;\">\n",
              "      <th></th>\n",
              "      <th>Date</th>\n",
              "      <th>Open</th>\n",
              "      <th>High</th>\n",
              "      <th>Low</th>\n",
              "      <th>Last</th>\n",
              "      <th>Close</th>\n",
              "      <th>Total Trade Quantity</th>\n",
              "      <th>Turnover (Lacs)</th>\n",
              "    </tr>\n",
              "  </thead>\n",
              "  <tbody>\n",
              "    <tr>\n",
              "      <th>2030</th>\n",
              "      <td>2010-07-27</td>\n",
              "      <td>117.6</td>\n",
              "      <td>119.50</td>\n",
              "      <td>112.00</td>\n",
              "      <td>118.80</td>\n",
              "      <td>118.65</td>\n",
              "      <td>586100</td>\n",
              "      <td>694.98</td>\n",
              "    </tr>\n",
              "    <tr>\n",
              "      <th>2031</th>\n",
              "      <td>2010-07-26</td>\n",
              "      <td>120.1</td>\n",
              "      <td>121.00</td>\n",
              "      <td>117.10</td>\n",
              "      <td>117.10</td>\n",
              "      <td>117.60</td>\n",
              "      <td>658440</td>\n",
              "      <td>780.01</td>\n",
              "    </tr>\n",
              "    <tr>\n",
              "      <th>2032</th>\n",
              "      <td>2010-07-23</td>\n",
              "      <td>121.8</td>\n",
              "      <td>121.95</td>\n",
              "      <td>120.25</td>\n",
              "      <td>120.35</td>\n",
              "      <td>120.65</td>\n",
              "      <td>281312</td>\n",
              "      <td>340.31</td>\n",
              "    </tr>\n",
              "    <tr>\n",
              "      <th>2033</th>\n",
              "      <td>2010-07-22</td>\n",
              "      <td>120.3</td>\n",
              "      <td>122.00</td>\n",
              "      <td>120.25</td>\n",
              "      <td>120.75</td>\n",
              "      <td>120.90</td>\n",
              "      <td>293312</td>\n",
              "      <td>355.17</td>\n",
              "    </tr>\n",
              "    <tr>\n",
              "      <th>2034</th>\n",
              "      <td>2010-07-21</td>\n",
              "      <td>122.1</td>\n",
              "      <td>123.00</td>\n",
              "      <td>121.05</td>\n",
              "      <td>121.10</td>\n",
              "      <td>121.55</td>\n",
              "      <td>658666</td>\n",
              "      <td>803.56</td>\n",
              "    </tr>\n",
              "  </tbody>\n",
              "</table>\n",
              "</div>"
            ],
            "text/plain": [
              "            Date   Open    High  ...   Close  Total Trade Quantity  Turnover (Lacs)\n",
              "2030  2010-07-27  117.6  119.50  ...  118.65                586100           694.98\n",
              "2031  2010-07-26  120.1  121.00  ...  117.60                658440           780.01\n",
              "2032  2010-07-23  121.8  121.95  ...  120.65                281312           340.31\n",
              "2033  2010-07-22  120.3  122.00  ...  120.90                293312           355.17\n",
              "2034  2010-07-21  122.1  123.00  ...  121.55                658666           803.56\n",
              "\n",
              "[5 rows x 8 columns]"
            ]
          },
          "metadata": {},
          "execution_count": 3
        }
      ]
    },
    {
      "cell_type": "code",
      "metadata": {
        "colab": {
          "base_uri": "https://localhost:8080/"
        },
        "id": "q-HNUj6v8oH4",
        "outputId": "746c907a-8cf6-4c70-f7c3-c86fceacfaab"
      },
      "source": [
        "df1 = df.reset_index()['Close']\n",
        "df1"
      ],
      "execution_count": null,
      "outputs": [
        {
          "output_type": "execute_result",
          "data": {
            "text/plain": [
              "0       233.75\n",
              "1       233.25\n",
              "2       234.25\n",
              "3       236.10\n",
              "4       233.30\n",
              "         ...  \n",
              "2030    118.65\n",
              "2031    117.60\n",
              "2032    120.65\n",
              "2033    120.90\n",
              "2034    121.55\n",
              "Name: Close, Length: 2035, dtype: float64"
            ]
          },
          "metadata": {},
          "execution_count": 4
        }
      ]
    },
    {
      "cell_type": "code",
      "metadata": {
        "colab": {
          "base_uri": "https://localhost:8080/",
          "height": 282
        },
        "id": "Wd3i0x5z9f-C",
        "outputId": "97403811-164e-40e5-c9db-269782a71cbc"
      },
      "source": [
        "plt.plot(df1)"
      ],
      "execution_count": null,
      "outputs": [
        {
          "output_type": "execute_result",
          "data": {
            "text/plain": [
              "[<matplotlib.lines.Line2D at 0x7f3c56e27550>]"
            ]
          },
          "metadata": {},
          "execution_count": 5
        },
        {
          "output_type": "display_data",
          "data": {
            "image/png": "[encoded data removed]",
            "text/plain": [
              "<Figure size 432x288 with 1 Axes>"
            ]
          },
          "metadata": {
            "needs_background": "light"
          }
        }
      ]
    },
    {
      "cell_type": "code",
      "metadata": {
        "colab": {
          "base_uri": "https://localhost:8080/"
        },
        "id": "MYXQiAPe9uyY",
        "outputId": "a3e60f32-e675-4b15-a453-b2e1fab61f56"
      },
      "source": [
        "from sklearn.preprocessing import MinMaxScaler\n",
        "sc= MinMaxScaler(feature_range=(0,1))\n",
        "scaled= sc.fit_transform(np.array(df1).reshape(-1,1))\n",
        "print(scaled)"
      ],
      "execution_count": null,
      "outputs": [
        {
          "output_type": "stream",
          "name": "stdout",
          "text": [
            "[[0.62418301]\n",
            " [0.62214052]\n",
            " [0.62622549]\n",
            " ...\n",
            " [0.1621732 ]\n",
            " [0.16319444]\n",
            " [0.16584967]]\n"
          ]
        }
      ]
    },
    {
      "cell_type": "code",
      "metadata": {
        "id": "J5LAkF2cBxOI"
      },
      "source": [
        "X_train = []\n",
        "y_train = []\n",
        "for i in range(60, 2035):\n",
        "    X_train.append(scaled[i-60:i, 0])\n",
        "    y_train.append(scaled[i-50:i, 0])\n",
        "X_train, y_train = np.array(X_train), np.array(y_train)\n",
        "\n",
        "X_train = np.reshape(X_train, (X_train.shape[0], X_train.shape[1], 1))"
      ],
      "execution_count": null,
      "outputs": []
    },
    {
      "cell_type": "code",
      "metadata": {
        "id": "fK1fvMVgNWwN"
      },
      "source": [
        "from keras.models import Sequential\n",
        "from keras.layers import Dense\n",
        "from keras.layers import LSTM\n",
        "from keras.layers import Dropout"
      ],
      "execution_count": null,
      "outputs": []
    },
    {
      "cell_type": "code",
      "metadata": {
        "colab": {
          "base_uri": "https://localhost:8080/"
        },
        "id": "ZmEIOPFudDor",
        "outputId": "06339758-7780-42cc-c747-266cfdb7bab9"
      },
      "source": [
        "model = Sequential()\n",
        "\n",
        "model.add(LSTM(units=50,return_sequences=True,input_shape=(X_train.shape[1], 1)))\n",
        "model.add(Dropout(0.2))\n",
        "\n",
        "model.add(LSTM(units=50,return_sequences=True))\n",
        "model.add(Dropout(0.2))\n",
        "\n",
        "model.add(LSTM(units=50,return_sequences=True))\n",
        "model.add(Dropout(0.2))\n",
        "\n",
        "model.add(LSTM(units=50))\n",
        "model.add(Dropout(0.2))\n",
        "\n",
        "model.add(Dense(units=1))\n",
        "\n",
        "model.compile(optimizer='adam',loss='mean_squared_error')\n",
        "\n",
        "model.fit(X_train,y_train,epochs=100,batch_size=32)"
      ],
      "execution_count": null,
      "outputs": [
        {
          "output_type": "stream",
          "name": "stdout",
          "text": [
            "Epoch 1/100\n",
            "62/62 [==============================] - 15s 130ms/step - loss: 0.0143\n",
            "Epoch 2/100\n",
            "62/62 [==============================] - 8s 127ms/step - loss: 0.0029\n",
            "Epoch 3/100\n",
            "62/62 [==============================] - 8s 127ms/step - loss: 0.0030\n",
            "Epoch 4/100\n",
            "62/62 [==============================] - 8s 130ms/step - loss: 0.0031\n",
            "Epoch 5/100\n",
            "62/62 [==============================] - 8s 127ms/step - loss: 0.0026\n",
            "Epoch 6/100\n",
            "62/62 [==============================] - 8s 126ms/step - loss: 0.0026\n",
            "Epoch 7/100\n",
            "62/62 [==============================] - 8s 128ms/step - loss: 0.0022\n",
            "Epoch 8/100\n",
            "62/62 [==============================] - 8s 132ms/step - loss: 0.0024\n",
            "Epoch 9/100\n",
            "62/62 [==============================] - 8s 126ms/step - loss: 0.0024\n",
            "Epoch 10/100\n",
            "62/62 [==============================] - 8s 128ms/step - loss: 0.0023\n",
            "Epoch 11/100\n",
            "62/62 [==============================] - 8s 128ms/step - loss: 0.0023\n",
            "Epoch 12/100\n",
            "62/62 [==============================] - 8s 128ms/step - loss: 0.0024\n",
            "Epoch 13/100\n",
            "62/62 [==============================] - 8s 129ms/step - loss: 0.0022\n",
            "Epoch 14/100\n",
            "62/62 [==============================] - 8s 129ms/step - loss: 0.0023\n",
            "Epoch 15/100\n",
            "62/62 [==============================] - 8s 131ms/step - loss: 0.0022\n",
            "Epoch 16/100\n",
            "62/62 [==============================] - 8s 130ms/step - loss: 0.0022\n",
            "Epoch 17/100\n",
            "62/62 [==============================] - 8s 127ms/step - loss: 0.0023\n",
            "Epoch 18/100\n",
            "62/62 [==============================] - 8s 128ms/step - loss: 0.0021\n",
            "Epoch 19/100\n",
            "62/62 [==============================] - 8s 130ms/step - loss: 0.0023\n",
            "Epoch 20/100\n",
            "62/62 [==============================] - 8s 130ms/step - loss: 0.0023\n",
            "Epoch 21/100\n",
            "62/62 [==============================] - 8s 130ms/step - loss: 0.0024\n",
            "Epoch 22/100\n",
            "62/62 [==============================] - 8s 131ms/step - loss: 0.0020\n",
            "Epoch 23/100\n",
            "62/62 [==============================] - 8s 132ms/step - loss: 0.0019\n",
            "Epoch 24/100\n",
            "62/62 [==============================] - 8s 130ms/step - loss: 0.0020\n",
            "Epoch 25/100\n",
            "62/62 [==============================] - 8s 130ms/step - loss: 0.0019\n",
            "Epoch 26/100\n",
            "62/62 [==============================] - 8s 131ms/step - loss: 0.0019\n",
            "Epoch 27/100\n",
            "62/62 [==============================] - 8s 130ms/step - loss: 0.0019\n",
            "Epoch 28/100\n",
            "62/62 [==============================] - 8s 129ms/step - loss: 0.0021\n",
            "Epoch 29/100\n",
            "62/62 [==============================] - 8s 132ms/step - loss: 0.0019\n",
            "Epoch 30/100\n",
            "62/62 [==============================] - 8s 130ms/step - loss: 0.0019\n",
            "Epoch 31/100\n",
            "62/62 [==============================] - 8s 130ms/step - loss: 0.0019\n",
            "Epoch 32/100\n",
            "62/62 [==============================] - 8s 132ms/step - loss: 0.0018\n",
            "Epoch 33/100\n",
            "62/62 [==============================] - 8s 131ms/step - loss: 0.0019\n",
            "Epoch 34/100\n",
            "62/62 [==============================] - 8s 130ms/step - loss: 0.0021\n",
            "Epoch 35/100\n",
            "62/62 [==============================] - 8s 129ms/step - loss: 0.0019\n",
            "Epoch 36/100\n",
            "62/62 [==============================] - 8s 135ms/step - loss: 0.0019\n",
            "Epoch 37/100\n",
            "62/62 [==============================] - 8s 132ms/step - loss: 0.0018\n",
            "Epoch 38/100\n",
            "62/62 [==============================] - 8s 130ms/step - loss: 0.0018\n",
            "Epoch 39/100\n",
            "62/62 [==============================] - 8s 130ms/step - loss: 0.0018\n",
            "Epoch 40/100\n",
            "62/62 [==============================] - 8s 131ms/step - loss: 0.0018\n",
            "Epoch 41/100\n",
            "62/62 [==============================] - 8s 133ms/step - loss: 0.0018\n",
            "Epoch 42/100\n",
            "62/62 [==============================] - 8s 132ms/step - loss: 0.0019\n",
            "Epoch 43/100\n",
            "62/62 [==============================] - 8s 130ms/step - loss: 0.0019\n",
            "Epoch 44/100\n",
            "62/62 [==============================] - 8s 134ms/step - loss: 0.0018\n",
            "Epoch 45/100\n",
            "62/62 [==============================] - 8s 135ms/step - loss: 0.0018\n",
            "Epoch 46/100\n",
            "62/62 [==============================] - 8s 134ms/step - loss: 0.0018\n",
            "Epoch 47/100\n",
            "62/62 [==============================] - 8s 131ms/step - loss: 0.0020\n",
            "Epoch 48/100\n",
            "62/62 [==============================] - 8s 129ms/step - loss: 0.0019\n",
            "Epoch 49/100\n",
            "62/62 [==============================] - 8s 129ms/step - loss: 0.0018\n",
            "Epoch 50/100\n",
            "62/62 [==============================] - 8s 130ms/step - loss: 0.0019\n",
            "Epoch 51/100\n",
            "62/62 [==============================] - 8s 129ms/step - loss: 0.0017\n",
            "Epoch 52/100\n",
            "62/62 [==============================] - 8s 128ms/step - loss: 0.0018\n",
            "Epoch 53/100\n",
            "62/62 [==============================] - 8s 127ms/step - loss: 0.0018\n",
            "Epoch 54/100\n",
            "62/62 [==============================] - 8s 131ms/step - loss: 0.0018\n",
            "Epoch 55/100\n",
            "62/62 [==============================] - 8s 131ms/step - loss: 0.0018\n",
            "Epoch 56/100\n",
            "62/62 [==============================] - 8s 130ms/step - loss: 0.0017\n",
            "Epoch 57/100\n",
            "62/62 [==============================] - 8s 129ms/step - loss: 0.0017\n",
            "Epoch 58/100\n",
            "62/62 [==============================] - 8s 128ms/step - loss: 0.0017\n",
            "Epoch 59/100\n",
            "62/62 [==============================] - 8s 133ms/step - loss: 0.0017\n",
            "Epoch 60/100\n",
            "62/62 [==============================] - 8s 131ms/step - loss: 0.0018\n",
            "Epoch 61/100\n",
            "62/62 [==============================] - 8s 131ms/step - loss: 0.0017\n",
            "Epoch 62/100\n",
            "62/62 [==============================] - 8s 129ms/step - loss: 0.0019\n",
            "Epoch 63/100\n",
            "62/62 [==============================] - 8s 134ms/step - loss: 0.0020\n",
            "Epoch 64/100\n",
            "62/62 [==============================] - 8s 130ms/step - loss: 0.0018\n",
            "Epoch 65/100\n",
            "62/62 [==============================] - 8s 130ms/step - loss: 0.0017\n",
            "Epoch 66/100\n",
            "62/62 [==============================] - 8s 131ms/step - loss: 0.0017\n",
            "Epoch 67/100\n",
            "62/62 [==============================] - 8s 134ms/step - loss: 0.0017\n",
            "Epoch 68/100\n",
            "62/62 [==============================] - 8s 131ms/step - loss: 0.0017\n",
            "Epoch 69/100\n",
            "62/62 [==============================] - 8s 130ms/step - loss: 0.0018\n",
            "Epoch 70/100\n",
            "62/62 [==============================] - 8s 130ms/step - loss: 0.0017\n",
            "Epoch 71/100\n",
            "62/62 [==============================] - 8s 132ms/step - loss: 0.0017\n",
            "Epoch 72/100\n",
            "62/62 [==============================] - 8s 129ms/step - loss: 0.0017\n",
            "Epoch 73/100\n",
            "62/62 [==============================] - 8s 130ms/step - loss: 0.0017\n",
            "Epoch 74/100\n",
            "62/62 [==============================] - 8s 131ms/step - loss: 0.0016\n",
            "Epoch 75/100\n",
            "62/62 [==============================] - 8s 129ms/step - loss: 0.0017\n",
            "Epoch 76/100\n",
            "62/62 [==============================] - 8s 128ms/step - loss: 0.0017\n",
            "Epoch 77/100\n",
            "62/62 [==============================] - 8s 127ms/step - loss: 0.0017\n",
            "Epoch 78/100\n",
            "62/62 [==============================] - 8s 128ms/step - loss: 0.0017\n",
            "Epoch 79/100\n",
            "62/62 [==============================] - 8s 131ms/step - loss: 0.0018\n",
            "Epoch 80/100\n",
            "62/62 [==============================] - 8s 127ms/step - loss: 0.0018\n",
            "Epoch 81/100\n",
            "62/62 [==============================] - 8s 128ms/step - loss: 0.0017\n",
            "Epoch 82/100\n",
            "62/62 [==============================] - 8s 129ms/step - loss: 0.0017\n",
            "Epoch 83/100\n",
            "62/62 [==============================] - 8s 132ms/step - loss: 0.0017\n",
            "Epoch 84/100\n",
            "62/62 [==============================] - 8s 131ms/step - loss: 0.0017\n",
            "Epoch 85/100\n",
            "62/62 [==============================] - 8s 130ms/step - loss: 0.0017\n",
            "Epoch 86/100\n",
            "62/62 [==============================] - 8s 129ms/step - loss: 0.0019\n",
            "Epoch 87/100\n",
            "62/62 [==============================] - 8s 128ms/step - loss: 0.0017\n",
            "Epoch 88/100\n",
            "62/62 [==============================] - 8s 128ms/step - loss: 0.0017\n",
            "Epoch 89/100\n",
            "62/62 [==============================] - 8s 130ms/step - loss: 0.0017\n",
            "Epoch 90/100\n",
            "62/62 [==============================] - 8s 129ms/step - loss: 0.0017\n",
            "Epoch 91/100\n",
            "62/62 [==============================] - 8s 130ms/step - loss: 0.0017\n",
            "Epoch 92/100\n",
            "62/62 [==============================] - 8s 129ms/step - loss: 0.0017\n",
            "Epoch 93/100\n",
            "62/62 [==============================] - 8s 128ms/step - loss: 0.0018\n",
            "Epoch 94/100\n",
            "62/62 [==============================] - 8s 128ms/step - loss: 0.0017\n",
            "Epoch 95/100\n",
            "62/62 [==============================] - 8s 129ms/step - loss: 0.0017\n",
            "Epoch 96/100\n",
            "62/62 [==============================] - 8s 130ms/step - loss: 0.0017\n",
            "Epoch 97/100\n",
            "62/62 [==============================] - 8s 131ms/step - loss: 0.0018\n",
            "Epoch 98/100\n",
            "62/62 [==============================] - 8s 130ms/step - loss: 0.0017\n",
            "Epoch 99/100\n",
            "62/62 [==============================] - 8s 131ms/step - loss: 0.0017\n",
            "Epoch 100/100\n",
            "62/62 [==============================] - 8s 131ms/step - loss: 0.0016\n"
          ]
        },
        {
          "output_type": "execute_result",
          "data": {
            "text/plain": [
              "<keras.callbacks.History at 0x7f3c033cb2d0>"
            ]
          },
          "metadata": {},
          "execution_count": 9
        }
      ]
    },
    {
      "cell_type": "code",
      "metadata": {
        "id": "hwtQzejwflxt"
      },
      "source": [
        "url = 'https://raw.githubusercontent.com/mwitiderrick/stockprice/master/NSE-TATAGLOBAL.csv'\n",
        "dataset_test = pd.read_csv(url)\n",
        "real_stock_price = dataset_test.iloc[:, 1:2].values"
      ],
      "execution_count": null,
      "outputs": []
    },
    {
      "cell_type": "code",
      "metadata": {
        "id": "9FIkp44ofzsp"
      },
      "source": [
        "dataset_total = pd.concat((df['Open'], dataset_test['Open']), axis = 0)\n",
        "inputs = dataset_total[len(dataset_total) - len(dataset_test) - 60:].values\n",
        "inputs = inputs.reshape(-1,1)\n",
        "inputs = sc.transform(inputs)\n",
        "X_test = []\n",
        "for i in range(60, 76):\n",
        "    X_test.append(inputs[i-60:i, 0])\n",
        "X_test = np.array(X_test)\n",
        "X_test = np.reshape(X_test, (X_test.shape[0], X_test.shape[1], 1))\n",
        "predicted_stock_price = model.predict(X_test)\n",
        "predicted_stock_price = sc.inverse_transform(predicted_stock_price)"
      ],
      "execution_count": null,
      "outputs": []
    },
    {
      "cell_type": "code",
      "metadata": {
        "colab": {
          "base_uri": "https://localhost:8080/",
          "height": 295
        },
        "id": "zVb9P0Itf5e9",
        "outputId": "de0ef7d9-fef7-41a2-8320-9dcd01ad28d2"
      },
      "source": [
        "\n",
        "plt.plot(real_stock_price, color = 'black', label = 'TATA Stock Price')\n",
        "plt.plot(predicted_stock_price, color = 'green', label = 'Predicted TATA Stock Price')\n",
        "plt.title('TATA Stock Price Prediction')\n",
        "plt.xlabel('Time')\n",
        "plt.ylabel('TATA Stock Price')\n",
        "plt.legend()\n",
        "plt.show()"
      ],
      "execution_count": null,
      "outputs": [
        {
          "output_type": "display_data",
          "data": {
            "image/png": "[encoded data removed]",
            "text/plain": [
              "<Figure size 432x288 with 1 Axes>"
            ]
          },
          "metadata": {
            "needs_background": "light"
          }
        }
      ]
    }
  ]
}