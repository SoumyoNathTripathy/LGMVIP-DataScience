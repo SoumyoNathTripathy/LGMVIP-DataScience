{
  "nbformat": 4,
  "nbformat_minor": 0,
  "metadata": {
    "colab": {
      "name": "Task 1- EDA",
      "provenance": [],
      "collapsed_sections": [],
      "authorship_tag": "ABX9TyMUKySWfbZROhS+Rmn1oVCT",
      "include_colab_link": true
    },
    "kernelspec": {
      "name": "python3",
      "display_name": "Python 3"
    },
    "language_info": {
      "name": "python"
    }
  },
  "cells": [
    {
      "cell_type": "markdown",
      "metadata": {
        "id": "view-in-github",
        "colab_type": "text"
      },
      "source": [
        "<a href=\"https://colab.research.google.com/github/SoumyoNathTripathy/LGMVIP-DataScience/blob/main/Task_1_EDA.ipynb\" target=\"_parent\"><img src=\"https://colab.research.google.com/assets/colab-badge.svg\" alt=\"Open In Colab\"/></a>"
      ]
    },
    {
      "cell_type": "markdown",
      "metadata": {
        "id": "-NwH2EyBIHI1"
      },
      "source": [
        "# **LETS GROW MORE**\n",
        "\n",
        "Level 02: **Intermediate**\n",
        "\n",
        "Author- **SOUMYO NATH TRIPATHY**\n",
        "\n",
        "Task 1-**Exploratory Data Analysis on Dataset - Terrorism**\n",
        "\n",
        "Dataset- https://bit.ly/2TK5Xn5"
      ]
    },
    {
      "cell_type": "markdown",
      "metadata": {
        "id": "KkKEJii-A5me"
      },
      "source": [
        "**(Importing Required Libraries)**"
      ]
    },
    {
      "cell_type": "code",
      "metadata": {
        "id": "4cUy9qyIHvgH"
      },
      "source": [
        "import pandas as pd\n",
        "import numpy as np\n",
        "import matplotlib.pyplot as plt"
      ],
      "execution_count": null,
      "outputs": []
    },
    {
      "cell_type": "code",
      "metadata": {
        "id": "_bgliP-HMMoU"
      },
      "source": [
        "import seaborn as sns"
      ],
      "execution_count": null,
      "outputs": []
    },
    {
      "cell_type": "code",
      "metadata": {
        "colab": {
          "base_uri": "https://localhost:8080/"
        },
        "id": "l6uBXGZvNGL8",
        "outputId": "db4ac0c3-47b3-43be-872d-63570fc305e2"
      },
      "source": [
        "data=pd.read_csv(\"/content/globalterrorismdb_0718dist.csv\",encoding='latin-1')"
      ],
      "execution_count": null,
      "outputs": [
        {
          "output_type": "stream",
          "name": "stderr",
          "text": [
            "/usr/local/lib/python3.7/dist-packages/IPython/core/interactiveshell.py:2718: DtypeWarning: Columns (4,6,31,33,61,62,63,76,79,90,92,94,96,114,115,121) have mixed types.Specify dtype option on import or set low_memory=False.\n",
            "  interactivity=interactivity, compiler=compiler, result=result)\n"
          ]
        }
      ]
    },
    {
      "cell_type": "markdown",
      "metadata": {
        "id": "J58dsDFQ_apG"
      },
      "source": [
        "**(Analysing Data)**"
      ]
    },
    {
      "cell_type": "code",
      "metadata": {
        "colab": {
          "base_uri": "https://localhost:8080/"
        },
        "id": "bRK54r5oOCtY",
        "outputId": "fb1ea7d6-df7f-4cf7-b588-079debee1bc2"
      },
      "source": [
        "data.head"
      ],
      "execution_count": null,
      "outputs": [
        {
          "output_type": "execute_result",
          "data": {
            "text/plain": [
              "<bound method NDFrame.head of              eventid  iyear  imonth  iday  ... INT_IDEO  INT_MISC INT_ANY  related\n",
              "0       197000000001   1970       7     2  ...      0.0       0.0     0.0      NaN\n",
              "1       197000000002   1970       0     0  ...      1.0       1.0     1.0      NaN\n",
              "2       197001000001   1970       1     0  ...     -9.0       1.0     1.0      NaN\n",
              "3       197001000002   1970       1     0  ...     -9.0       1.0     1.0      NaN\n",
              "4       197001000003   1970       1     0  ...     -9.0       1.0     1.0      NaN\n",
              "...              ...    ...     ...   ...  ...      ...       ...     ...      ...\n",
              "107816  201205140008   2012       5    14  ...      0.0       0.0     0.0      NaN\n",
              "107817  201205140010   2012       5    14  ...     -9.0       0.0    -9.0      NaN\n",
              "107818  201205140011   2012       5    14  ...     -9.0       0.0    -9.0      NaN\n",
              "107819  201205140012   2012       5    14  ...     -9.0       1.0     1.0      NaN\n",
              "107820  201205140013   2012       5    14  ...      NaN       NaN     NaN      NaN\n",
              "\n",
              "[107821 rows x 135 columns]>"
            ]
          },
          "metadata": {},
          "execution_count": 8
        }
      ]
    },
    {
      "cell_type": "code",
      "metadata": {
        "colab": {
          "base_uri": "https://localhost:8080/"
        },
        "id": "2mIRHNc7OHw3",
        "outputId": "88a2f6ae-fb2b-47d7-e468-3d71e5b41509"
      },
      "source": [
        "data.tail"
      ],
      "execution_count": null,
      "outputs": [
        {
          "output_type": "execute_result",
          "data": {
            "text/plain": [
              "<bound method NDFrame.tail of              eventid  iyear  imonth  iday  ... INT_IDEO  INT_MISC INT_ANY  related\n",
              "0       197000000001   1970       7     2  ...      0.0       0.0     0.0      NaN\n",
              "1       197000000002   1970       0     0  ...      1.0       1.0     1.0      NaN\n",
              "2       197001000001   1970       1     0  ...     -9.0       1.0     1.0      NaN\n",
              "3       197001000002   1970       1     0  ...     -9.0       1.0     1.0      NaN\n",
              "4       197001000003   1970       1     0  ...     -9.0       1.0     1.0      NaN\n",
              "...              ...    ...     ...   ...  ...      ...       ...     ...      ...\n",
              "107816  201205140008   2012       5    14  ...      0.0       0.0     0.0      NaN\n",
              "107817  201205140010   2012       5    14  ...     -9.0       0.0    -9.0      NaN\n",
              "107818  201205140011   2012       5    14  ...     -9.0       0.0    -9.0      NaN\n",
              "107819  201205140012   2012       5    14  ...     -9.0       1.0     1.0      NaN\n",
              "107820  201205140013   2012       5    14  ...      NaN       NaN     NaN      NaN\n",
              "\n",
              "[107821 rows x 135 columns]>"
            ]
          },
          "metadata": {},
          "execution_count": 9
        }
      ]
    },
    {
      "cell_type": "code",
      "metadata": {
        "colab": {
          "base_uri": "https://localhost:8080/"
        },
        "id": "6YoIlTYJOKZE",
        "outputId": "9469a692-ba22-4101-9dee-bb145b0cf4dc"
      },
      "source": [
        "data.info()"
      ],
      "execution_count": null,
      "outputs": [
        {
          "output_type": "stream",
          "name": "stdout",
          "text": [
            "<class 'pandas.core.frame.DataFrame'>\n",
            "RangeIndex: 107821 entries, 0 to 107820\n",
            "Columns: 135 entries, eventid to related\n",
            "dtypes: float64(60), int64(17), object(58)\n",
            "memory usage: 111.1+ MB\n"
          ]
        }
      ]
    },
    {
      "cell_type": "code",
      "metadata": {
        "colab": {
          "base_uri": "https://localhost:8080/",
          "height": 317
        },
        "id": "Qh2n3LQGORq4",
        "outputId": "e49b81a8-cb18-4a75-dde1-09cae794d1fc"
      },
      "source": [
        "data.describe()"
      ],
      "execution_count": null,
      "outputs": [
        {
          "output_type": "execute_result",
          "data": {
            "text/html": [
              "<div>\n",
              "<style scoped>\n",
              "    .dataframe tbody tr th:only-of-type {\n",
              "        vertical-align: middle;\n",
              "    }\n",
              "\n",
              "    .dataframe tbody tr th {\n",
              "        vertical-align: top;\n",
              "    }\n",
              "\n",
              "    .dataframe thead th {\n",
              "        text-align: right;\n",
              "    }\n",
              "</style>\n",
              "<table border=\"1\" class=\"dataframe\">\n",
              "  <thead>\n",
              "    <tr style=\"text-align: right;\">\n",
              "      <th></th>\n",
              "      <th>eventid</th>\n",
              "      <th>iyear</th>\n",
              "      <th>imonth</th>\n",
              "      <th>iday</th>\n",
              "      <th>extended</th>\n",
              "      <th>country</th>\n",
              "      <th>region</th>\n",
              "      <th>latitude</th>\n",
              "      <th>longitude</th>\n",
              "      <th>specificity</th>\n",
              "      <th>vicinity</th>\n",
              "      <th>crit1</th>\n",
              "      <th>crit2</th>\n",
              "      <th>crit3</th>\n",
              "      <th>doubtterr</th>\n",
              "      <th>alternative</th>\n",
              "      <th>multiple</th>\n",
              "      <th>success</th>\n",
              "      <th>suicide</th>\n",
              "      <th>attacktype1</th>\n",
              "      <th>attacktype2</th>\n",
              "      <th>attacktype3</th>\n",
              "      <th>targtype1</th>\n",
              "      <th>targsubtype1</th>\n",
              "      <th>natlty1</th>\n",
              "      <th>targtype2</th>\n",
              "      <th>targsubtype2</th>\n",
              "      <th>natlty2</th>\n",
              "      <th>targtype3</th>\n",
              "      <th>targsubtype3</th>\n",
              "      <th>natlty3</th>\n",
              "      <th>guncertain1</th>\n",
              "      <th>guncertain2</th>\n",
              "      <th>guncertain3</th>\n",
              "      <th>individual</th>\n",
              "      <th>nperps</th>\n",
              "      <th>nperpcap</th>\n",
              "      <th>claimed</th>\n",
              "      <th>claimmode</th>\n",
              "      <th>claim2</th>\n",
              "      <th>claimmode2</th>\n",
              "      <th>claim3</th>\n",
              "      <th>claimmode3</th>\n",
              "      <th>compclaim</th>\n",
              "      <th>weaptype1</th>\n",
              "      <th>weapsubtype1</th>\n",
              "      <th>weaptype2</th>\n",
              "      <th>weapsubtype2</th>\n",
              "      <th>weaptype3</th>\n",
              "      <th>weapsubtype3</th>\n",
              "      <th>weaptype4</th>\n",
              "      <th>weapsubtype4</th>\n",
              "      <th>nkill</th>\n",
              "      <th>nkillus</th>\n",
              "      <th>nkillter</th>\n",
              "      <th>nwound</th>\n",
              "      <th>nwoundus</th>\n",
              "      <th>nwoundte</th>\n",
              "      <th>property</th>\n",
              "      <th>propextent</th>\n",
              "      <th>propvalue</th>\n",
              "      <th>ishostkid</th>\n",
              "      <th>nhostkid</th>\n",
              "      <th>nhostkidus</th>\n",
              "      <th>nhours</th>\n",
              "      <th>ndays</th>\n",
              "      <th>ransom</th>\n",
              "      <th>ransomamt</th>\n",
              "      <th>ransomamtus</th>\n",
              "      <th>ransompaid</th>\n",
              "      <th>ransompaidus</th>\n",
              "      <th>hostkidoutcome</th>\n",
              "      <th>nreleased</th>\n",
              "      <th>INT_LOG</th>\n",
              "      <th>INT_IDEO</th>\n",
              "      <th>INT_MISC</th>\n",
              "      <th>INT_ANY</th>\n",
              "    </tr>\n",
              "  </thead>\n",
              "  <tbody>\n",
              "    <tr>\n",
              "      <th>count</th>\n",
              "      <td>1.078210e+05</td>\n",
              "      <td>107821.000000</td>\n",
              "      <td>107821.000000</td>\n",
              "      <td>107821.000000</td>\n",
              "      <td>107821.000000</td>\n",
              "      <td>107821.000000</td>\n",
              "      <td>107821.000000</td>\n",
              "      <td>103723.000000</td>\n",
              "      <td>1.037220e+05</td>\n",
              "      <td>107815.000000</td>\n",
              "      <td>107821.000000</td>\n",
              "      <td>107821.000000</td>\n",
              "      <td>107821.000000</td>\n",
              "      <td>107821.000000</td>\n",
              "      <td>107821.000000</td>\n",
              "      <td>15233.000000</td>\n",
              "      <td>107821.000000</td>\n",
              "      <td>107821.000000</td>\n",
              "      <td>107821.000000</td>\n",
              "      <td>107821.000000</td>\n",
              "      <td>2994.000000</td>\n",
              "      <td>191.000000</td>\n",
              "      <td>107821.000000</td>\n",
              "      <td>102565.000000</td>\n",
              "      <td>107205.000000</td>\n",
              "      <td>4890.000000</td>\n",
              "      <td>4472.000000</td>\n",
              "      <td>4587.000000</td>\n",
              "      <td>640.000000</td>\n",
              "      <td>571.000000</td>\n",
              "      <td>612.000000</td>\n",
              "      <td>107440.000000</td>\n",
              "      <td>555.000000</td>\n",
              "      <td>77.000000</td>\n",
              "      <td>107820.000000</td>\n",
              "      <td>36705.000000</td>\n",
              "      <td>38331.000000</td>\n",
              "      <td>41700.000000</td>\n",
              "      <td>5708.000000</td>\n",
              "      <td>490.000000</td>\n",
              "      <td>204.000000</td>\n",
              "      <td>75.000000</td>\n",
              "      <td>53.000000</td>\n",
              "      <td>4428.000000</td>\n",
              "      <td>107820.000000</td>\n",
              "      <td>93580.000000</td>\n",
              "      <td>6198.000000</td>\n",
              "      <td>5440.000000</td>\n",
              "      <td>749.000000</td>\n",
              "      <td>667.000000</td>\n",
              "      <td>73.000000</td>\n",
              "      <td>70.000000</td>\n",
              "      <td>101206.000000</td>\n",
              "      <td>43390.000000</td>\n",
              "      <td>42331.000000</td>\n",
              "      <td>97762.000000</td>\n",
              "      <td>43157.000000</td>\n",
              "      <td>41286.000000</td>\n",
              "      <td>107820.000000</td>\n",
              "      <td>38017.000000</td>\n",
              "      <td>1.294100e+04</td>\n",
              "      <td>107642.000000</td>\n",
              "      <td>7578.000000</td>\n",
              "      <td>7523.000000</td>\n",
              "      <td>2347.000000</td>\n",
              "      <td>3846.000000</td>\n",
              "      <td>71387.000000</td>\n",
              "      <td>9.800000e+02</td>\n",
              "      <td>1.940000e+02</td>\n",
              "      <td>4.030000e+02</td>\n",
              "      <td>183.000000</td>\n",
              "      <td>4997.000000</td>\n",
              "      <td>4405.000000</td>\n",
              "      <td>107820.000000</td>\n",
              "      <td>107820.000000</td>\n",
              "      <td>107820.000000</td>\n",
              "      <td>107820.000000</td>\n",
              "    </tr>\n",
              "    <tr>\n",
              "      <th>mean</th>\n",
              "      <td>1.994440e+11</td>\n",
              "      <td>1994.374537</td>\n",
              "      <td>6.384823</td>\n",
              "      <td>15.307250</td>\n",
              "      <td>0.033741</td>\n",
              "      <td>137.434266</td>\n",
              "      <td>6.426800</td>\n",
              "      <td>21.486670</td>\n",
              "      <td>-8.199526e+02</td>\n",
              "      <td>1.430237</td>\n",
              "      <td>0.064950</td>\n",
              "      <td>0.987127</td>\n",
              "      <td>0.991041</td>\n",
              "      <td>0.904286</td>\n",
              "      <td>-1.009386</td>\n",
              "      <td>1.330532</td>\n",
              "      <td>0.109042</td>\n",
              "      <td>0.918142</td>\n",
              "      <td>0.021109</td>\n",
              "      <td>3.134510</td>\n",
              "      <td>3.463260</td>\n",
              "      <td>4.581152</td>\n",
              "      <td>8.193942</td>\n",
              "      <td>46.672091</td>\n",
              "      <td>126.489875</td>\n",
              "      <td>9.458282</td>\n",
              "      <td>51.566637</td>\n",
              "      <td>136.291694</td>\n",
              "      <td>9.185937</td>\n",
              "      <td>52.879159</td>\n",
              "      <td>133.325163</td>\n",
              "      <td>0.104626</td>\n",
              "      <td>0.392793</td>\n",
              "      <td>0.428571</td>\n",
              "      <td>0.002272</td>\n",
              "      <td>-37.473859</td>\n",
              "      <td>-3.892907</td>\n",
              "      <td>-0.183094</td>\n",
              "      <td>7.124036</td>\n",
              "      <td>0.114286</td>\n",
              "      <td>7.573529</td>\n",
              "      <td>0.680000</td>\n",
              "      <td>7.245283</td>\n",
              "      <td>-6.951220</td>\n",
              "      <td>6.436719</td>\n",
              "      <td>10.754392</td>\n",
              "      <td>6.597289</td>\n",
              "      <td>10.678493</td>\n",
              "      <td>6.751669</td>\n",
              "      <td>11.190405</td>\n",
              "      <td>6.246575</td>\n",
              "      <td>10.842857</td>\n",
              "      <td>2.326226</td>\n",
              "      <td>0.110164</td>\n",
              "      <td>0.264652</td>\n",
              "      <td>3.272171</td>\n",
              "      <td>0.087193</td>\n",
              "      <td>0.039771</td>\n",
              "      <td>-0.132026</td>\n",
              "      <td>3.363232</td>\n",
              "      <td>5.992232e+05</td>\n",
              "      <td>0.064547</td>\n",
              "      <td>4.804962</td>\n",
              "      <td>-0.580885</td>\n",
              "      <td>-22.471240</td>\n",
              "      <td>-21.779771</td>\n",
              "      <td>-0.132937</td>\n",
              "      <td>3.235649e+06</td>\n",
              "      <td>9.483413e+05</td>\n",
              "      <td>6.346093e+05</td>\n",
              "      <td>671.513661</td>\n",
              "      <td>4.441065</td>\n",
              "      <td>-21.182066</td>\n",
              "      <td>-4.342858</td>\n",
              "      <td>-4.301382</td>\n",
              "      <td>0.106910</td>\n",
              "      <td>-3.638221</td>\n",
              "    </tr>\n",
              "    <tr>\n",
              "      <th>std</th>\n",
              "      <td>1.125696e+09</td>\n",
              "      <td>11.257881</td>\n",
              "      <td>3.401325</td>\n",
              "      <td>8.818034</td>\n",
              "      <td>0.180563</td>\n",
              "      <td>123.283106</td>\n",
              "      <td>3.080436</td>\n",
              "      <td>21.385992</td>\n",
              "      <td>2.676091e+05</td>\n",
              "      <td>1.047285</td>\n",
              "      <td>0.299913</td>\n",
              "      <td>0.112728</td>\n",
              "      <td>0.094229</td>\n",
              "      <td>0.294200</td>\n",
              "      <td>3.078568</td>\n",
              "      <td>0.608542</td>\n",
              "      <td>0.311693</td>\n",
              "      <td>0.274149</td>\n",
              "      <td>0.143749</td>\n",
              "      <td>1.889623</td>\n",
              "      <td>2.095009</td>\n",
              "      <td>2.181854</td>\n",
              "      <td>6.700526</td>\n",
              "      <td>32.099411</td>\n",
              "      <td>85.504306</td>\n",
              "      <td>5.980229</td>\n",
              "      <td>26.745720</td>\n",
              "      <td>140.219443</td>\n",
              "      <td>5.918443</td>\n",
              "      <td>27.094334</td>\n",
              "      <td>134.129590</td>\n",
              "      <td>0.306072</td>\n",
              "      <td>0.488812</td>\n",
              "      <td>0.498117</td>\n",
              "      <td>0.047615</td>\n",
              "      <td>366.167173</td>\n",
              "      <td>20.039650</td>\n",
              "      <td>1.721845</td>\n",
              "      <td>3.156570</td>\n",
              "      <td>1.745341</td>\n",
              "      <td>3.396533</td>\n",
              "      <td>0.469617</td>\n",
              "      <td>3.507715</td>\n",
              "      <td>3.811739</td>\n",
              "      <td>2.182224</td>\n",
              "      <td>6.854242</td>\n",
              "      <td>1.939742</td>\n",
              "      <td>7.426055</td>\n",
              "      <td>2.069582</td>\n",
              "      <td>7.843325</td>\n",
              "      <td>1.507212</td>\n",
              "      <td>8.192672</td>\n",
              "      <td>11.399885</td>\n",
              "      <td>9.334952</td>\n",
              "      <td>3.386317</td>\n",
              "      <td>45.633054</td>\n",
              "      <td>4.941855</td>\n",
              "      <td>1.146871</td>\n",
              "      <td>2.725786</td>\n",
              "      <td>0.527673</td>\n",
              "      <td>2.690772e+07</td>\n",
              "      <td>0.344832</td>\n",
              "      <td>256.069285</td>\n",
              "      <td>8.792170</td>\n",
              "      <td>96.458034</td>\n",
              "      <td>137.724848</td>\n",
              "      <td>1.144263</td>\n",
              "      <td>3.353450e+07</td>\n",
              "      <td>7.443006e+06</td>\n",
              "      <td>3.179782e+06</td>\n",
              "      <td>5035.649683</td>\n",
              "      <td>2.062470</td>\n",
              "      <td>61.190791</td>\n",
              "      <td>4.549368</td>\n",
              "      <td>4.605100</td>\n",
              "      <td>0.708516</td>\n",
              "      <td>4.650483</td>\n",
              "    </tr>\n",
              "    <tr>\n",
              "      <th>min</th>\n",
              "      <td>1.970000e+11</td>\n",
              "      <td>1970.000000</td>\n",
              "      <td>0.000000</td>\n",
              "      <td>0.000000</td>\n",
              "      <td>0.000000</td>\n",
              "      <td>4.000000</td>\n",
              "      <td>1.000000</td>\n",
              "      <td>-53.154613</td>\n",
              "      <td>-8.618590e+07</td>\n",
              "      <td>1.000000</td>\n",
              "      <td>-9.000000</td>\n",
              "      <td>0.000000</td>\n",
              "      <td>0.000000</td>\n",
              "      <td>0.000000</td>\n",
              "      <td>-9.000000</td>\n",
              "      <td>1.000000</td>\n",
              "      <td>0.000000</td>\n",
              "      <td>0.000000</td>\n",
              "      <td>0.000000</td>\n",
              "      <td>1.000000</td>\n",
              "      <td>1.000000</td>\n",
              "      <td>1.000000</td>\n",
              "      <td>1.000000</td>\n",
              "      <td>1.000000</td>\n",
              "      <td>4.000000</td>\n",
              "      <td>1.000000</td>\n",
              "      <td>1.000000</td>\n",
              "      <td>4.000000</td>\n",
              "      <td>1.000000</td>\n",
              "      <td>1.000000</td>\n",
              "      <td>4.000000</td>\n",
              "      <td>0.000000</td>\n",
              "      <td>0.000000</td>\n",
              "      <td>0.000000</td>\n",
              "      <td>0.000000</td>\n",
              "      <td>-99.000000</td>\n",
              "      <td>-99.000000</td>\n",
              "      <td>-9.000000</td>\n",
              "      <td>1.000000</td>\n",
              "      <td>-9.000000</td>\n",
              "      <td>1.000000</td>\n",
              "      <td>0.000000</td>\n",
              "      <td>1.000000</td>\n",
              "      <td>-9.000000</td>\n",
              "      <td>1.000000</td>\n",
              "      <td>1.000000</td>\n",
              "      <td>2.000000</td>\n",
              "      <td>1.000000</td>\n",
              "      <td>2.000000</td>\n",
              "      <td>2.000000</td>\n",
              "      <td>5.000000</td>\n",
              "      <td>2.000000</td>\n",
              "      <td>0.000000</td>\n",
              "      <td>0.000000</td>\n",
              "      <td>0.000000</td>\n",
              "      <td>0.000000</td>\n",
              "      <td>0.000000</td>\n",
              "      <td>0.000000</td>\n",
              "      <td>-9.000000</td>\n",
              "      <td>1.000000</td>\n",
              "      <td>-9.900000e+01</td>\n",
              "      <td>-9.000000</td>\n",
              "      <td>-99.000000</td>\n",
              "      <td>-99.000000</td>\n",
              "      <td>-99.000000</td>\n",
              "      <td>-99.000000</td>\n",
              "      <td>-9.000000</td>\n",
              "      <td>-9.900000e+01</td>\n",
              "      <td>-9.900000e+01</td>\n",
              "      <td>-9.900000e+01</td>\n",
              "      <td>-99.000000</td>\n",
              "      <td>1.000000</td>\n",
              "      <td>-99.000000</td>\n",
              "      <td>-9.000000</td>\n",
              "      <td>-9.000000</td>\n",
              "      <td>-9.000000</td>\n",
              "      <td>-9.000000</td>\n",
              "    </tr>\n",
              "    <tr>\n",
              "      <th>25%</th>\n",
              "      <td>1.985122e+11</td>\n",
              "      <td>1985.000000</td>\n",
              "      <td>3.000000</td>\n",
              "      <td>8.000000</td>\n",
              "      <td>0.000000</td>\n",
              "      <td>65.000000</td>\n",
              "      <td>3.000000</td>\n",
              "      <td>7.433198</td>\n",
              "      <td>-7.050530e+01</td>\n",
              "      <td>1.000000</td>\n",
              "      <td>0.000000</td>\n",
              "      <td>1.000000</td>\n",
              "      <td>1.000000</td>\n",
              "      <td>1.000000</td>\n",
              "      <td>0.000000</td>\n",
              "      <td>1.000000</td>\n",
              "      <td>0.000000</td>\n",
              "      <td>1.000000</td>\n",
              "      <td>0.000000</td>\n",
              "      <td>2.000000</td>\n",
              "      <td>2.000000</td>\n",
              "      <td>2.000000</td>\n",
              "      <td>2.000000</td>\n",
              "      <td>21.000000</td>\n",
              "      <td>69.000000</td>\n",
              "      <td>3.000000</td>\n",
              "      <td>25.000000</td>\n",
              "      <td>87.500000</td>\n",
              "      <td>3.000000</td>\n",
              "      <td>25.000000</td>\n",
              "      <td>74.000000</td>\n",
              "      <td>0.000000</td>\n",
              "      <td>0.000000</td>\n",
              "      <td>0.000000</td>\n",
              "      <td>0.000000</td>\n",
              "      <td>-99.000000</td>\n",
              "      <td>0.000000</td>\n",
              "      <td>0.000000</td>\n",
              "      <td>5.000000</td>\n",
              "      <td>0.000000</td>\n",
              "      <td>5.000000</td>\n",
              "      <td>0.000000</td>\n",
              "      <td>2.000000</td>\n",
              "      <td>-9.000000</td>\n",
              "      <td>5.000000</td>\n",
              "      <td>5.000000</td>\n",
              "      <td>5.000000</td>\n",
              "      <td>5.000000</td>\n",
              "      <td>5.000000</td>\n",
              "      <td>3.000000</td>\n",
              "      <td>5.000000</td>\n",
              "      <td>3.000000</td>\n",
              "      <td>0.000000</td>\n",
              "      <td>0.000000</td>\n",
              "      <td>0.000000</td>\n",
              "      <td>0.000000</td>\n",
              "      <td>0.000000</td>\n",
              "      <td>0.000000</td>\n",
              "      <td>0.000000</td>\n",
              "      <td>3.000000</td>\n",
              "      <td>5.000000e+02</td>\n",
              "      <td>0.000000</td>\n",
              "      <td>1.000000</td>\n",
              "      <td>0.000000</td>\n",
              "      <td>-99.000000</td>\n",
              "      <td>-99.000000</td>\n",
              "      <td>0.000000</td>\n",
              "      <td>0.000000e+00</td>\n",
              "      <td>0.000000e+00</td>\n",
              "      <td>-9.900000e+01</td>\n",
              "      <td>0.000000</td>\n",
              "      <td>2.000000</td>\n",
              "      <td>-99.000000</td>\n",
              "      <td>-9.000000</td>\n",
              "      <td>-9.000000</td>\n",
              "      <td>0.000000</td>\n",
              "      <td>-9.000000</td>\n",
              "    </tr>\n",
              "    <tr>\n",
              "      <th>50%</th>\n",
              "      <td>1.992111e+11</td>\n",
              "      <td>1992.000000</td>\n",
              "      <td>6.000000</td>\n",
              "      <td>15.000000</td>\n",
              "      <td>0.000000</td>\n",
              "      <td>98.000000</td>\n",
              "      <td>6.000000</td>\n",
              "      <td>27.904355</td>\n",
              "      <td>2.868986e+01</td>\n",
              "      <td>1.000000</td>\n",
              "      <td>0.000000</td>\n",
              "      <td>1.000000</td>\n",
              "      <td>1.000000</td>\n",
              "      <td>1.000000</td>\n",
              "      <td>0.000000</td>\n",
              "      <td>1.000000</td>\n",
              "      <td>0.000000</td>\n",
              "      <td>1.000000</td>\n",
              "      <td>0.000000</td>\n",
              "      <td>3.000000</td>\n",
              "      <td>2.000000</td>\n",
              "      <td>6.000000</td>\n",
              "      <td>4.000000</td>\n",
              "      <td>34.000000</td>\n",
              "      <td>98.000000</td>\n",
              "      <td>14.000000</td>\n",
              "      <td>67.000000</td>\n",
              "      <td>97.000000</td>\n",
              "      <td>12.000000</td>\n",
              "      <td>67.000000</td>\n",
              "      <td>95.000000</td>\n",
              "      <td>0.000000</td>\n",
              "      <td>0.000000</td>\n",
              "      <td>0.000000</td>\n",
              "      <td>0.000000</td>\n",
              "      <td>-99.000000</td>\n",
              "      <td>0.000000</td>\n",
              "      <td>0.000000</td>\n",
              "      <td>8.000000</td>\n",
              "      <td>0.000000</td>\n",
              "      <td>10.000000</td>\n",
              "      <td>1.000000</td>\n",
              "      <td>9.000000</td>\n",
              "      <td>-9.000000</td>\n",
              "      <td>6.000000</td>\n",
              "      <td>12.000000</td>\n",
              "      <td>6.000000</td>\n",
              "      <td>7.500000</td>\n",
              "      <td>6.000000</td>\n",
              "      <td>11.000000</td>\n",
              "      <td>6.000000</td>\n",
              "      <td>9.500000</td>\n",
              "      <td>0.000000</td>\n",
              "      <td>0.000000</td>\n",
              "      <td>0.000000</td>\n",
              "      <td>0.000000</td>\n",
              "      <td>0.000000</td>\n",
              "      <td>0.000000</td>\n",
              "      <td>1.000000</td>\n",
              "      <td>3.000000</td>\n",
              "      <td>1.000000e+04</td>\n",
              "      <td>0.000000</td>\n",
              "      <td>1.000000</td>\n",
              "      <td>0.000000</td>\n",
              "      <td>0.000000</td>\n",
              "      <td>1.000000</td>\n",
              "      <td>0.000000</td>\n",
              "      <td>1.100000e+04</td>\n",
              "      <td>0.000000e+00</td>\n",
              "      <td>0.000000e+00</td>\n",
              "      <td>0.000000</td>\n",
              "      <td>4.000000</td>\n",
              "      <td>1.000000</td>\n",
              "      <td>0.000000</td>\n",
              "      <td>0.000000</td>\n",
              "      <td>0.000000</td>\n",
              "      <td>0.000000</td>\n",
              "    </tr>\n",
              "    <tr>\n",
              "      <th>75%</th>\n",
              "      <td>2.006062e+11</td>\n",
              "      <td>2006.000000</td>\n",
              "      <td>9.000000</td>\n",
              "      <td>23.000000</td>\n",
              "      <td>0.000000</td>\n",
              "      <td>167.000000</td>\n",
              "      <td>10.000000</td>\n",
              "      <td>36.266667</td>\n",
              "      <td>6.700506e+01</td>\n",
              "      <td>1.000000</td>\n",
              "      <td>0.000000</td>\n",
              "      <td>1.000000</td>\n",
              "      <td>1.000000</td>\n",
              "      <td>1.000000</td>\n",
              "      <td>0.000000</td>\n",
              "      <td>2.000000</td>\n",
              "      <td>0.000000</td>\n",
              "      <td>1.000000</td>\n",
              "      <td>0.000000</td>\n",
              "      <td>3.000000</td>\n",
              "      <td>6.000000</td>\n",
              "      <td>7.000000</td>\n",
              "      <td>14.000000</td>\n",
              "      <td>74.000000</td>\n",
              "      <td>183.000000</td>\n",
              "      <td>14.000000</td>\n",
              "      <td>69.000000</td>\n",
              "      <td>182.000000</td>\n",
              "      <td>14.000000</td>\n",
              "      <td>73.000000</td>\n",
              "      <td>175.000000</td>\n",
              "      <td>0.000000</td>\n",
              "      <td>1.000000</td>\n",
              "      <td>1.000000</td>\n",
              "      <td>0.000000</td>\n",
              "      <td>2.000000</td>\n",
              "      <td>0.000000</td>\n",
              "      <td>0.000000</td>\n",
              "      <td>10.000000</td>\n",
              "      <td>1.000000</td>\n",
              "      <td>10.000000</td>\n",
              "      <td>1.000000</td>\n",
              "      <td>10.000000</td>\n",
              "      <td>-9.000000</td>\n",
              "      <td>6.000000</td>\n",
              "      <td>16.000000</td>\n",
              "      <td>8.000000</td>\n",
              "      <td>16.000000</td>\n",
              "      <td>8.000000</td>\n",
              "      <td>18.000000</td>\n",
              "      <td>6.000000</td>\n",
              "      <td>16.000000</td>\n",
              "      <td>1.000000</td>\n",
              "      <td>0.000000</td>\n",
              "      <td>0.000000</td>\n",
              "      <td>1.000000</td>\n",
              "      <td>0.000000</td>\n",
              "      <td>0.000000</td>\n",
              "      <td>1.000000</td>\n",
              "      <td>4.000000</td>\n",
              "      <td>5.000000e+04</td>\n",
              "      <td>0.000000</td>\n",
              "      <td>4.000000</td>\n",
              "      <td>0.000000</td>\n",
              "      <td>0.000000</td>\n",
              "      <td>4.000000</td>\n",
              "      <td>0.000000</td>\n",
              "      <td>5.000000e+05</td>\n",
              "      <td>0.000000e+00</td>\n",
              "      <td>3.850000e+04</td>\n",
              "      <td>0.000000</td>\n",
              "      <td>7.000000</td>\n",
              "      <td>2.000000</td>\n",
              "      <td>0.000000</td>\n",
              "      <td>0.000000</td>\n",
              "      <td>0.000000</td>\n",
              "      <td>0.000000</td>\n",
              "    </tr>\n",
              "    <tr>\n",
              "      <th>max</th>\n",
              "      <td>2.012051e+11</td>\n",
              "      <td>2012.000000</td>\n",
              "      <td>12.000000</td>\n",
              "      <td>31.000000</td>\n",
              "      <td>1.000000</td>\n",
              "      <td>1004.000000</td>\n",
              "      <td>12.000000</td>\n",
              "      <td>74.633553</td>\n",
              "      <td>1.793667e+02</td>\n",
              "      <td>5.000000</td>\n",
              "      <td>1.000000</td>\n",
              "      <td>1.000000</td>\n",
              "      <td>1.000000</td>\n",
              "      <td>1.000000</td>\n",
              "      <td>1.000000</td>\n",
              "      <td>5.000000</td>\n",
              "      <td>1.000000</td>\n",
              "      <td>1.000000</td>\n",
              "      <td>1.000000</td>\n",
              "      <td>9.000000</td>\n",
              "      <td>9.000000</td>\n",
              "      <td>7.000000</td>\n",
              "      <td>22.000000</td>\n",
              "      <td>113.000000</td>\n",
              "      <td>1004.000000</td>\n",
              "      <td>22.000000</td>\n",
              "      <td>113.000000</td>\n",
              "      <td>1003.000000</td>\n",
              "      <td>22.000000</td>\n",
              "      <td>108.000000</td>\n",
              "      <td>999.000000</td>\n",
              "      <td>1.000000</td>\n",
              "      <td>1.000000</td>\n",
              "      <td>1.000000</td>\n",
              "      <td>1.000000</td>\n",
              "      <td>25000.000000</td>\n",
              "      <td>406.000000</td>\n",
              "      <td>1.000000</td>\n",
              "      <td>10.000000</td>\n",
              "      <td>1.000000</td>\n",
              "      <td>10.000000</td>\n",
              "      <td>1.000000</td>\n",
              "      <td>10.000000</td>\n",
              "      <td>1.000000</td>\n",
              "      <td>13.000000</td>\n",
              "      <td>31.000000</td>\n",
              "      <td>13.000000</td>\n",
              "      <td>31.000000</td>\n",
              "      <td>13.000000</td>\n",
              "      <td>28.000000</td>\n",
              "      <td>12.000000</td>\n",
              "      <td>28.000000</td>\n",
              "      <td>1384.000000</td>\n",
              "      <td>1360.000000</td>\n",
              "      <td>500.000000</td>\n",
              "      <td>8191.000000</td>\n",
              "      <td>751.000000</td>\n",
              "      <td>200.000000</td>\n",
              "      <td>1.000000</td>\n",
              "      <td>4.000000</td>\n",
              "      <td>2.700000e+09</td>\n",
              "      <td>1.000000</td>\n",
              "      <td>17000.000000</td>\n",
              "      <td>86.000000</td>\n",
              "      <td>999.000000</td>\n",
              "      <td>2454.000000</td>\n",
              "      <td>1.000000</td>\n",
              "      <td>1.000000e+09</td>\n",
              "      <td>1.000000e+08</td>\n",
              "      <td>4.100000e+07</td>\n",
              "      <td>48000.000000</td>\n",
              "      <td>7.000000</td>\n",
              "      <td>1201.000000</td>\n",
              "      <td>1.000000</td>\n",
              "      <td>1.000000</td>\n",
              "      <td>1.000000</td>\n",
              "      <td>1.000000</td>\n",
              "    </tr>\n",
              "  </tbody>\n",
              "</table>\n",
              "</div>"
            ],
            "text/plain": [
              "            eventid          iyear  ...       INT_MISC        INT_ANY\n",
              "count  1.078210e+05  107821.000000  ...  107820.000000  107820.000000\n",
              "mean   1.994440e+11    1994.374537  ...       0.106910      -3.638221\n",
              "std    1.125696e+09      11.257881  ...       0.708516       4.650483\n",
              "min    1.970000e+11    1970.000000  ...      -9.000000      -9.000000\n",
              "25%    1.985122e+11    1985.000000  ...       0.000000      -9.000000\n",
              "50%    1.992111e+11    1992.000000  ...       0.000000       0.000000\n",
              "75%    2.006062e+11    2006.000000  ...       0.000000       0.000000\n",
              "max    2.012051e+11    2012.000000  ...       1.000000       1.000000\n",
              "\n",
              "[8 rows x 77 columns]"
            ]
          },
          "metadata": {},
          "execution_count": 11
        }
      ]
    },
    {
      "cell_type": "markdown",
      "metadata": {
        "id": "mXpD9AEDAQ5c"
      },
      "source": [
        "**(Data Visualization)**"
      ]
    },
    {
      "cell_type": "code",
      "metadata": {
        "colab": {
          "base_uri": "https://localhost:8080/",
          "height": 282
        },
        "id": "y6zWjBd-OWYc",
        "outputId": "0d6963cd-fe74-43d2-ceaa-09f29c7ff3ea"
      },
      "source": [
        "data['iyear'].hist()"
      ],
      "execution_count": null,
      "outputs": [
        {
          "output_type": "execute_result",
          "data": {
            "text/plain": [
              "<matplotlib.axes._subplots.AxesSubplot at 0x7f3d5d04bc50>"
            ]
          },
          "metadata": {},
          "execution_count": 12
        },
        {
          "output_type": "display_data",
          "data": {
            "image/png": "[encoded data removed]",
            "text/plain": [
              "<Figure size 432x288 with 1 Axes>"
            ]
          },
          "metadata": {
            "needs_background": "light"
          }
        }
      ]
    },
    {
      "cell_type": "code",
      "metadata": {
        "colab": {
          "base_uri": "https://localhost:8080/",
          "height": 279
        },
        "id": "z-t1fZJ3Oll5",
        "outputId": "8da5023d-d5a2-4b59-dd53-e66599f44d27"
      },
      "source": [
        "sns.lineplot(data=data['iyear'])\n",
        "plt.ylabel('attack type')\n",
        "plt.xlabel(' total attack on the attack type')\n",
        "plt.show()"
      ],
      "execution_count": null,
      "outputs": [
        {
          "output_type": "display_data",
          "data": {
            "image/png": "[encoded data removed]",
            "text/plain": [
              "<Figure size 432x288 with 1 Axes>"
            ]
          },
          "metadata": {
            "needs_background": "light"
          }
        }
      ]
    },
    {
      "cell_type": "code",
      "metadata": {
        "colab": {
          "base_uri": "https://localhost:8080/"
        },
        "id": "6JJR5aBYPU_n",
        "outputId": "a48c5607-f7c5-4984-a275-c2db7ae012a0"
      },
      "source": [
        "data['attacktype1'].hist"
      ],
      "execution_count": null,
      "outputs": [
        {
          "output_type": "execute_result",
          "data": {
            "text/plain": [
              "<bound method hist_series of 0         1\n",
              "1         6\n",
              "2         1\n",
              "3         3\n",
              "4         7\n",
              "         ..\n",
              "107816    3\n",
              "107817    3\n",
              "107818    3\n",
              "107819    3\n",
              "107820    3\n",
              "Name: attacktype1, Length: 107821, dtype: int64>"
            ]
          },
          "metadata": {},
          "execution_count": 14
        }
      ]
    },
    {
      "cell_type": "code",
      "metadata": {
        "colab": {
          "base_uri": "https://localhost:8080/",
          "height": 474
        },
        "id": "pdAUAVC4PYIJ",
        "outputId": "fe69b107-585f-4afe-9f19-e8e11b7006de"
      },
      "source": [
        "plt.subplots(figsize=(15,6))\n",
        "sns.countplot('iyear', data=data, palette='RdYlGn_r', edgecolor=sns.color_palette('dark',10))\n",
        "plt.xticks(rotation=90)\n",
        "plt.title('No.of terrorist activity each year')\n",
        "plt.show()"
      ],
      "execution_count": null,
      "outputs": [
        {
          "output_type": "stream",
          "name": "stderr",
          "text": [
            "/usr/local/lib/python3.7/dist-packages/seaborn/_decorators.py:43: FutureWarning: Pass the following variable as a keyword arg: x. From version 0.12, the only valid positional argument will be `data`, and passing other arguments without an explicit keyword will result in an error or misinterpretation.\n",
            "  FutureWarning\n"
          ]
        },
        {
          "output_type": "display_data",
          "data": {
            "image/png": "[encoded data removed]",
            "text/plain": [
              "<Figure size 1080x432 with 1 Axes>"
            ]
          },
          "metadata": {
            "needs_background": "light"
          }
        }
      ]
    },
    {
      "cell_type": "code",
      "metadata": {
        "colab": {
          "base_uri": "https://localhost:8080/",
          "height": 279
        },
        "id": "8fAU0NixSdDP",
        "outputId": "07198c18-e597-44fa-baa7-134b616dd61c"
      },
      "source": [
        "sns.countplot(data=data,y=data['attacktype1_txt'])\n",
        "plt.ylabel('attack type')\n",
        "plt.xlabel(' total attack on the attack type')\n",
        "plt.show()"
      ],
      "execution_count": null,
      "outputs": [
        {
          "output_type": "display_data",
          "data": {
            "image/png": "[encoded data removed]",
            "text/plain": [
              "<Figure size 432x288 with 1 Axes>"
            ]
          },
          "metadata": {
            "needs_background": "light"
          }
        }
      ]
    },
    {
      "cell_type": "code",
      "metadata": {
        "colab": {
          "base_uri": "https://localhost:8080/",
          "height": 279
        },
        "id": "EnCqU8RYSf9k",
        "outputId": "184ad530-de28-4898-f9ff-f7bdbbba29c1"
      },
      "source": [
        "sns.countplot(data=data,y=data['targtype1_txt'])\n",
        "plt.ylabel('Target type')\n",
        "plt.xlabel(' total attack on the Target type')\n",
        "plt.show()"
      ],
      "execution_count": null,
      "outputs": [
        {
          "output_type": "display_data",
          "data": {
            "image/png": "[encoded data removed]",
            "text/plain": [
              "<Figure size 432x288 with 1 Axes>"
            ]
          },
          "metadata": {
            "needs_background": "light"
          }
        }
      ]
    },
    {
      "cell_type": "code",
      "metadata": {
        "colab": {
          "base_uri": "https://localhost:8080/",
          "height": 279
        },
        "id": "jbTJEDlOSmpw",
        "outputId": "1286d226-a445-4bfc-e578-fe9520095aa0"
      },
      "source": [
        "sns.countplot(data=data,y=data['weaptype1_txt'])\n",
        "plt.ylabel('Weapen type')\n",
        "plt.xlabel(' total attack on the Weapen type')\n",
        "plt.show()"
      ],
      "execution_count": null,
      "outputs": [
        {
          "output_type": "display_data",
          "data": {
            "image/png": "[encoded data removed]",
            "text/plain": [
              "<Figure size 432x288 with 1 Axes>"
            ]
          },
          "metadata": {
            "needs_background": "light"
          }
        }
      ]
    },
    {
      "cell_type": "code",
      "metadata": {
        "colab": {
          "base_uri": "https://localhost:8080/",
          "height": 279
        },
        "id": "tVtL-Hm6Stix",
        "outputId": "6797e630-68bc-4215-8eaf-04124665df84"
      },
      "source": [
        "sns.countplot(data=data,y=data['region_txt'])\n",
        "plt.ylabel('regions')\n",
        "plt.xlabel(' total attack on the region')\n",
        "plt.show()"
      ],
      "execution_count": null,
      "outputs": [
        {
          "output_type": "display_data",
          "data": {
            "image/png": "[encoded data removed]",
            "text/plain": [
              "<Figure size 432x288 with 1 Axes>"
            ]
          },
          "metadata": {
            "needs_background": "light"
          }
        }
      ]
    }
  ]
}