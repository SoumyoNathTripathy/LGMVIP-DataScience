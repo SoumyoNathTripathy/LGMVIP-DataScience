{
  "nbformat": 4,
  "nbformat_minor": 0,
  "metadata": {
    "colab": {
      "name": "Task #1- Iris Dataset ML-Project",
      "provenance": [],
      "collapsed_sections": [],
      "authorship_tag": "ABX9TyMm+mUYWE6lWSq/+KJdtsy3",
      "include_colab_link": true
    },
    "kernelspec": {
      "display_name": "Python 3",
      "name": "python3"
    },
    "language_info": {
      "name": "python"
    }
  },
  "cells": [
    {
      "cell_type": "markdown",
      "metadata": {
        "id": "view-in-github",
        "colab_type": "text"
      },
      "source": [
        "<a href=\"https://colab.research.google.com/github/SoumyoNathTripathy/LGMVIP-DataScience/blob/main/Task_1_Iris_Dataset_ML_Project.ipynb\" target=\"_parent\"><img src=\"https://colab.research.google.com/assets/colab-badge.svg\" alt=\"Open In Colab\"/></a>"
      ]
    },
    {
      "cell_type": "markdown",
      "metadata": {
        "id": "SkIW1JPokgBJ"
      },
      "source": [
        "Author- SOUMYO NATH TRIPATHY.\n",
        "\n",
        "Task1- IRIS FLOWERS CLASSIFICATION ML-PROJECT.\n",
        "\n",
        "Dataset-: http://archive.ics.uci.edu/ml/datasets/Iris. \n",
        "\n"
      ]
    },
    {
      "cell_type": "markdown",
      "metadata": {
        "id": "E_3s9seEkphq"
      },
      "source": [
        "(Importing required libraries)"
      ]
    },
    {
      "cell_type": "code",
      "metadata": {
        "id": "VBO3yC2i4NCT"
      },
      "source": [
        "import numpy as np\n",
        "import pandas as pd\n",
        "import matplotlib.pyplot as plt"
      ],
      "execution_count": null,
      "outputs": []
    },
    {
      "cell_type": "markdown",
      "metadata": {
        "id": "CO1hMCcskygb"
      },
      "source": [
        "(Loading the data)"
      ]
    },
    {
      "cell_type": "code",
      "metadata": {
        "id": "E6cY18yc4bs9"
      },
      "source": [
        "from sklearn.datasets import load_iris"
      ],
      "execution_count": null,
      "outputs": []
    },
    {
      "cell_type": "code",
      "metadata": {
        "colab": {
          "base_uri": "https://localhost:8080/"
        },
        "id": "a8uYv9z54pjU",
        "outputId": "b844aa8d-de95-4a9a-9846-19afc2d5eae5"
      },
      "source": [
        "iris=load_iris()\n",
        "data_iris = iris.data\n",
        "data_iris= pd.DataFrame(data_iris,columns=iris.feature_names)\n",
        "print(data_iris)"
      ],
      "execution_count": null,
      "outputs": [
        {
          "output_type": "stream",
          "text": [
            "     sepal length (cm)  sepal width (cm)  petal length (cm)  petal width (cm)\n",
            "0                  5.1               3.5                1.4               0.2\n",
            "1                  4.9               3.0                1.4               0.2\n",
            "2                  4.7               3.2                1.3               0.2\n",
            "3                  4.6               3.1                1.5               0.2\n",
            "4                  5.0               3.6                1.4               0.2\n",
            "..                 ...               ...                ...               ...\n",
            "145                6.7               3.0                5.2               2.3\n",
            "146                6.3               2.5                5.0               1.9\n",
            "147                6.5               3.0                5.2               2.0\n",
            "148                6.2               3.4                5.4               2.3\n",
            "149                5.9               3.0                5.1               1.8\n",
            "\n",
            "[150 rows x 4 columns]\n"
          ],
          "name": "stdout"
        }
      ]
    },
    {
      "cell_type": "code",
      "metadata": {
        "colab": {
          "base_uri": "https://localhost:8080/"
        },
        "id": "K2zIsfMU5EVi",
        "outputId": "9381ba1a-5d3a-4eda-f4dd-663596a03acc"
      },
      "source": [
        "data_iris['label']=iris.target\n",
        "print(data_iris)"
      ],
      "execution_count": null,
      "outputs": [
        {
          "output_type": "stream",
          "text": [
            "     sepal length (cm)  sepal width (cm)  ...  petal width (cm)  label\n",
            "0                  5.1               3.5  ...               0.2      0\n",
            "1                  4.9               3.0  ...               0.2      0\n",
            "2                  4.7               3.2  ...               0.2      0\n",
            "3                  4.6               3.1  ...               0.2      0\n",
            "4                  5.0               3.6  ...               0.2      0\n",
            "..                 ...               ...  ...               ...    ...\n",
            "145                6.7               3.0  ...               2.3      2\n",
            "146                6.3               2.5  ...               1.9      2\n",
            "147                6.5               3.0  ...               2.0      2\n",
            "148                6.2               3.4  ...               2.3      2\n",
            "149                5.9               3.0  ...               1.8      2\n",
            "\n",
            "[150 rows x 5 columns]\n"
          ],
          "name": "stdout"
        }
      ]
    },
    {
      "cell_type": "markdown",
      "metadata": {
        "id": "uzori2oqlCgS"
      },
      "source": [
        "(Data Visualization)"
      ]
    },
    {
      "cell_type": "code",
      "metadata": {
        "colab": {
          "base_uri": "https://localhost:8080/",
          "height": 279
        },
        "id": "XX93YaBr5W08",
        "outputId": "6cf2aeba-416e-4cd4-9e94-b125369465bd"
      },
      "source": [
        "plt.scatter(data_iris.iloc[:,2],data_iris.iloc[:,3], c=iris.target)\n",
        "plt.xlabel('Petal Length in cm')\n",
        "plt.ylabel('Petal Width in cm')\n",
        "plt.show()"
      ],
      "execution_count": null,
      "outputs": [
        {
          "output_type": "display_data",
          "data": {
            "image/png": "[encoded data removed]",
            "text/plain": [
              "<Figure size 432x288 with 1 Axes>"
            ]
          },
          "metadata": {
            "tags": [],
            "needs_background": "light"
          }
        }
      ]
    },
    {
      "cell_type": "markdown",
      "metadata": {
        "id": "TwdWtVbZldtP"
      },
      "source": [
        "(Splitting the Dataset & Model Building)"
      ]
    },
    {
      "cell_type": "code",
      "metadata": {
        "colab": {
          "base_uri": "https://localhost:8080/"
        },
        "id": "o_JtvdEz5c1H",
        "outputId": "c16e0033-b0fa-4288-e3a9-52f63d4e84aa"
      },
      "source": [
        "X= data_iris.iloc[:,0:4]\n",
        "y= data_iris.iloc[:,4]\n",
        "from sklearn.neighbors import KNeighborsClassifier\n",
        "kNN= KNeighborsClassifier(n_neighbors= 6, metric= 'minkowski',p=1)\n",
        "kNN.fit(X, y)\n"
      ],
      "execution_count": null,
      "outputs": [
        {
          "output_type": "execute_result",
          "data": {
            "text/plain": [
              "KNeighborsClassifier(algorithm='auto', leaf_size=30, metric='minkowski',\n",
              "                     metric_params=None, n_jobs=None, n_neighbors=6, p=1,\n",
              "                     weights='uniform')"
            ]
          },
          "metadata": {
            "tags": []
          },
          "execution_count": 31
        }
      ]
    },
    {
      "cell_type": "code",
      "metadata": {
        "id": "RACoRgmuTron"
      },
      "source": [
        "#array[0]= setosa\n",
        "#array[1]= versicolor\n",
        "#array[2]=virginica"
      ],
      "execution_count": null,
      "outputs": []
    },
    {
      "cell_type": "code",
      "metadata": {
        "id": "4_O4pFwY5pTE",
        "colab": {
          "base_uri": "https://localhost:8080/"
        },
        "outputId": "cafc070d-1b32-423d-bf72-3baa4a7fd9ab"
      },
      "source": [
        "x_N= np.array([[5.6,3.4,1.4,0.1]])\n",
        "kNN.predict(x_N)"
      ],
      "execution_count": null,
      "outputs": [
        {
          "output_type": "execute_result",
          "data": {
            "text/plain": [
              "array([0])"
            ]
          },
          "metadata": {
            "tags": []
          },
          "execution_count": 33
        }
      ]
    },
    {
      "cell_type": "code",
      "metadata": {
        "colab": {
          "base_uri": "https://localhost:8080/"
        },
        "id": "MeS7LgAKRF40",
        "outputId": "c3e8f91d-7f07-43a4-9b5b-82186c79c0aa"
      },
      "source": [
        "x_N1= np.array([[8,4.4,0.4,1.0]])\n",
        "kNN.predict(x_N1)"
      ],
      "execution_count": null,
      "outputs": [
        {
          "output_type": "execute_result",
          "data": {
            "text/plain": [
              "array([0])"
            ]
          },
          "metadata": {
            "tags": []
          },
          "execution_count": 34
        }
      ]
    },
    {
      "cell_type": "code",
      "metadata": {
        "id": "SSrvWDHWwC4D"
      },
      "source": [
        "from sklearn.model_selection import train_test_split"
      ],
      "execution_count": null,
      "outputs": []
    },
    {
      "cell_type": "code",
      "metadata": {
        "id": "5yUNbrMG1aOx"
      },
      "source": [
        "x_train,x_test,y_train,y_test=train_test_split(X,y, test_size=0.2 , train_size=0.8,random_state=88,shuffle=True)"
      ],
      "execution_count": null,
      "outputs": []
    },
    {
      "cell_type": "code",
      "metadata": {
        "id": "thXa0vWCdhyR"
      },
      "source": [
        "#K NEAREST NEIGHBOUR (kNN) Method:"
      ],
      "execution_count": null,
      "outputs": []
    },
    {
      "cell_type": "code",
      "metadata": {
        "colab": {
          "base_uri": "https://localhost:8080/"
        },
        "id": "d_r0gQdOwam0",
        "outputId": "cf342f85-94f6-4979-8321-edc5f13b0ea1"
      },
      "source": [
        "from sklearn.neighbors import KNeighborsClassifier\n",
        "kNN= KNeighborsClassifier(n_neighbors= 50, metric= 'minkowski',p=1)\n",
        "kNN.fit(x_train,y_train)\n",
        "predicted_types=kNN.predict(x_test)\n",
        "print(predicted_types)"
      ],
      "execution_count": null,
      "outputs": [
        {
          "output_type": "stream",
          "text": [
            "[1 2 0 0 2 0 1 2 1 1 0 1 1 2 1 1 0 0 2 0 0 1 2 1 2 2 0 2 1 1]\n"
          ],
          "name": "stdout"
        }
      ]
    },
    {
      "cell_type": "code",
      "metadata": {
        "colab": {
          "base_uri": "https://localhost:8080/"
        },
        "id": "R3BjmAMU7DbY",
        "outputId": "35960a0a-cf42-4d66-9afb-8bf3d119ef3a"
      },
      "source": [
        "print(y_test)"
      ],
      "execution_count": null,
      "outputs": [
        {
          "output_type": "stream",
          "text": [
            "84     1\n",
            "120    2\n",
            "39     0\n",
            "30     0\n",
            "52     1\n",
            "20     0\n",
            "57     1\n",
            "117    2\n",
            "134    2\n",
            "95     1\n",
            "15     0\n",
            "55     1\n",
            "60     1\n",
            "116    2\n",
            "121    2\n",
            "73     1\n",
            "24     0\n",
            "14     0\n",
            "100    2\n",
            "17     0\n",
            "19     0\n",
            "123    2\n",
            "129    2\n",
            "66     1\n",
            "109    2\n",
            "140    2\n",
            "22     0\n",
            "111    2\n",
            "53     1\n",
            "113    2\n",
            "Name: label, dtype: int64\n"
          ],
          "name": "stdout"
        }
      ]
    },
    {
      "cell_type": "markdown",
      "metadata": {
        "id": "xi520PzcmMSI"
      },
      "source": [
        "(Accuracy)"
      ]
    },
    {
      "cell_type": "code",
      "metadata": {
        "colab": {
          "base_uri": "https://localhost:8080/"
        },
        "id": "7YP5gBCE6l_u",
        "outputId": "54b02aae-cce2-4936-ee5a-8115f7e1ba7f"
      },
      "source": [
        "from sklearn.metrics import accuracy_score\n",
        "accuracy_score(y_test,predicted_types)"
      ],
      "execution_count": null,
      "outputs": [
        {
          "output_type": "execute_result",
          "data": {
            "text/plain": [
              "0.8333333333333334"
            ]
          },
          "metadata": {
            "tags": []
          },
          "execution_count": 40
        }
      ]
    },
    {
      "cell_type": "code",
      "metadata": {
        "id": "aM6WAmKldJ__"
      },
      "source": [
        "#DecisionTreeClassifier Method:"
      ],
      "execution_count": null,
      "outputs": []
    },
    {
      "cell_type": "code",
      "metadata": {
        "id": "qbO0AWS5dr9i",
        "colab": {
          "base_uri": "https://localhost:8080/"
        },
        "outputId": "02a346f3-2952-4afd-dad6-b178136e3b09"
      },
      "source": [
        "from sklearn.tree import DecisionTreeClassifier \n",
        "\n",
        "Dt= DecisionTreeClassifier()\n",
        "Dt.fit(x_train,y_train)\n",
        "Predicted_types_Dt=Dt.predict(x_test)\n",
        "print(Predicted_types_Dt)\n",
        "\n"
      ],
      "execution_count": null,
      "outputs": [
        {
          "output_type": "stream",
          "text": [
            "[1 2 0 0 1 0 2 2 2 1 0 1 1 2 2 1 0 0 2 0 0 2 1 1 2 2 0 2 1 2]\n"
          ],
          "name": "stdout"
        }
      ]
    },
    {
      "cell_type": "code",
      "metadata": {
        "colab": {
          "base_uri": "https://localhost:8080/"
        },
        "id": "fjirV-RKiqh_",
        "outputId": "b4e87815-f123-4921-824c-aa556818308b"
      },
      "source": [
        "print(y_test)"
      ],
      "execution_count": null,
      "outputs": [
        {
          "output_type": "stream",
          "text": [
            "84     1\n",
            "120    2\n",
            "39     0\n",
            "30     0\n",
            "52     1\n",
            "20     0\n",
            "57     1\n",
            "117    2\n",
            "134    2\n",
            "95     1\n",
            "15     0\n",
            "55     1\n",
            "60     1\n",
            "116    2\n",
            "121    2\n",
            "73     1\n",
            "24     0\n",
            "14     0\n",
            "100    2\n",
            "17     0\n",
            "19     0\n",
            "123    2\n",
            "129    2\n",
            "66     1\n",
            "109    2\n",
            "140    2\n",
            "22     0\n",
            "111    2\n",
            "53     1\n",
            "113    2\n",
            "Name: label, dtype: int64\n"
          ],
          "name": "stdout"
        }
      ]
    },
    {
      "cell_type": "markdown",
      "metadata": {
        "id": "-rWP5TlHmWXn"
      },
      "source": [
        "(Accuracy)"
      ]
    },
    {
      "cell_type": "code",
      "metadata": {
        "colab": {
          "base_uri": "https://localhost:8080/"
        },
        "id": "a-M6-AAHjBbn",
        "outputId": "ec4d0f44-3c8d-413d-fde7-ab2819d6c26f"
      },
      "source": [
        "from sklearn.metrics import accuracy_score\n",
        "accuracy_score(y_test,Predicted_types_Dt)"
      ],
      "execution_count": null,
      "outputs": [
        {
          "output_type": "execute_result",
          "data": {
            "text/plain": [
              "0.9333333333333333"
            ]
          },
          "metadata": {
            "tags": []
          },
          "execution_count": 44
        }
      ]
    },
    {
      "cell_type": "code",
      "metadata": {
        "colab": {
          "base_uri": "https://localhost:8080/"
        },
        "id": "Srm8AGYYkHdN",
        "outputId": "690e21e3-b537-4bc4-d6f5-7c4754e2f39d"
      },
      "source": [
        "from sklearn.model_selection import cross_val_score\n",
        "Scores_Dt=cross_val_score(Dt,X,y,cv=10)\n",
        "print(Scores_Dt)"
      ],
      "execution_count": null,
      "outputs": [
        {
          "output_type": "stream",
          "text": [
            "[1.         0.93333333 1.         0.93333333 0.93333333 0.86666667\n",
            " 0.93333333 1.         1.         1.        ]\n"
          ],
          "name": "stdout"
        }
      ]
    },
    {
      "cell_type": "code",
      "metadata": {
        "id": "Nj-9sFw3C1I-"
      },
      "source": [
        "#Naive Bayes Classifier Method:\n"
      ],
      "execution_count": null,
      "outputs": []
    },
    {
      "cell_type": "code",
      "metadata": {
        "id": "ThEy_6LfDUFw"
      },
      "source": [
        "from sklearn.naive_bayes import GaussianNB\n",
        "NB= GaussianNB()"
      ],
      "execution_count": null,
      "outputs": []
    },
    {
      "cell_type": "code",
      "metadata": {
        "colab": {
          "base_uri": "https://localhost:8080/"
        },
        "id": "HSP2Nl3gEiqG",
        "outputId": "b01b571f-540f-4522-a904-1c70c2a5d5d8"
      },
      "source": [
        "NB.fit(x_train,y_train)\n",
        "Predicted_types_NB= NB.predict(x_test)\n",
        "print(Predicted_types_NB)"
      ],
      "execution_count": null,
      "outputs": [
        {
          "output_type": "stream",
          "text": [
            "[1 2 0 0 1 0 1 2 1 1 0 1 1 2 2 1 0 0 2 0 0 2 2 1 2 2 0 2 1 2]\n"
          ],
          "name": "stdout"
        }
      ]
    },
    {
      "cell_type": "code",
      "metadata": {
        "colab": {
          "base_uri": "https://localhost:8080/"
        },
        "id": "GYE-rJXuFBp2",
        "outputId": "4ebf618e-556b-41f4-faae-22cbcaf2f70a"
      },
      "source": [
        "print(y_test)"
      ],
      "execution_count": null,
      "outputs": [
        {
          "output_type": "stream",
          "text": [
            "84     1\n",
            "120    2\n",
            "39     0\n",
            "30     0\n",
            "52     1\n",
            "20     0\n",
            "57     1\n",
            "117    2\n",
            "134    2\n",
            "95     1\n",
            "15     0\n",
            "55     1\n",
            "60     1\n",
            "116    2\n",
            "121    2\n",
            "73     1\n",
            "24     0\n",
            "14     0\n",
            "100    2\n",
            "17     0\n",
            "19     0\n",
            "123    2\n",
            "129    2\n",
            "66     1\n",
            "109    2\n",
            "140    2\n",
            "22     0\n",
            "111    2\n",
            "53     1\n",
            "113    2\n",
            "Name: label, dtype: int64\n"
          ],
          "name": "stdout"
        }
      ]
    },
    {
      "cell_type": "markdown",
      "metadata": {
        "id": "wblx5U6emaWW"
      },
      "source": [
        "(Accuracy)"
      ]
    },
    {
      "cell_type": "code",
      "metadata": {
        "colab": {
          "base_uri": "https://localhost:8080/"
        },
        "id": "i08j6tAtFGVs",
        "outputId": "852c9c8b-aedd-455f-edb0-169d1c519caa"
      },
      "source": [
        "from sklearn.metrics import accuracy_score\n",
        "k=accuracy_score(y_test,Predicted_types_NB)\n",
        "print(k)"
      ],
      "execution_count": null,
      "outputs": [
        {
          "output_type": "stream",
          "text": [
            "0.9666666666666667\n"
          ],
          "name": "stdout"
        }
      ]
    },
    {
      "cell_type": "code",
      "metadata": {
        "colab": {
          "base_uri": "https://localhost:8080/"
        },
        "id": "GwLZYGp-Hwvh",
        "outputId": "50511beb-e12c-4af2-8530-cab8f3e9de61"
      },
      "source": [
        "from sklearn.model_selection import cross_val_score\n",
        "Scores_NB= cross_val_score(NB, X, y, cv=10)\n",
        "print(Scores_NB)"
      ],
      "execution_count": null,
      "outputs": [
        {
          "output_type": "stream",
          "text": [
            "[0.93333333 0.93333333 1.         0.93333333 0.93333333 0.93333333\n",
            " 0.86666667 1.         1.         1.        ]\n"
          ],
          "name": "stdout"
        }
      ]
    },
    {
      "cell_type": "code",
      "metadata": {
        "id": "RdMccofMIict"
      },
      "source": [
        "#LOGISTIC REGRESSION METHOD:"
      ],
      "execution_count": null,
      "outputs": []
    },
    {
      "cell_type": "code",
      "metadata": {
        "colab": {
          "base_uri": "https://localhost:8080/"
        },
        "id": "_nremE07InxY",
        "outputId": "e8642698-c3e8-46fa-91df-bd560e0201a0"
      },
      "source": [
        "from sklearn.linear_model import  LogisticRegression\n",
        "LR= LogisticRegression()\n",
        "LR.fit(x_train,y_train)\n",
        "Predicted_types_LR= LR.predict(x_test)\n",
        "print(Predicted_types_LR)"
      ],
      "execution_count": null,
      "outputs": [
        {
          "output_type": "stream",
          "text": [
            "[1 2 0 0 1 0 1 2 2 1 0 1 1 2 2 1 0 0 2 0 0 2 2 1 2 2 0 2 1 2]\n"
          ],
          "name": "stdout"
        }
      ]
    },
    {
      "cell_type": "markdown",
      "metadata": {
        "id": "iAm2zH3-md1w"
      },
      "source": [
        "(Accuracy)"
      ]
    },
    {
      "cell_type": "code",
      "metadata": {
        "colab": {
          "base_uri": "https://localhost:8080/"
        },
        "id": "jE1BBvWlKKOk",
        "outputId": "178fe483-9a7d-4295-cd9f-72daa50fa60d"
      },
      "source": [
        "from sklearn.metrics import accuracy_score\n",
        "k=accuracy_score(y_test,Predicted_types_LR)\n",
        "print(k)"
      ],
      "execution_count": null,
      "outputs": [
        {
          "output_type": "stream",
          "text": [
            "1.0\n"
          ],
          "name": "stdout"
        }
      ]
    },
    {
      "cell_type": "code",
      "metadata": {
        "id": "8VN3az-lK-dD"
      },
      "source": [
        "#ACCURACY RANKINGS OF THE CLASSIFICATION METHODS:\n",
        "#1. LogisticRegression(1.0)\n",
        "#2. NaiveBayes(0.966)\n",
        "#3. DecisionTreeClassifier(0.933)\n",
        "#4. kNearestNeighbour(0.833)"
      ],
      "execution_count": null,
      "outputs": []
    }
  ]
}