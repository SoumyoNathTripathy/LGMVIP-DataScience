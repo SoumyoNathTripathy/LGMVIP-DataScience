{
  "nbformat": 4,
  "nbformat_minor": 0,
  "metadata": {
    "colab": {
      "name": "Task #3- Music Recommendation:",
      "provenance": [],
      "collapsed_sections": [],
      "authorship_tag": "ABX9TyMCSrcciCxnqfQ0U4z05Tud",
      "include_colab_link": true
    },
    "kernelspec": {
      "name": "python3",
      "display_name": "Python 3"
    },
    "language_info": {
      "name": "python"
    }
  },
  "cells": [
    {
      "cell_type": "markdown",
      "metadata": {
        "id": "view-in-github",
        "colab_type": "text"
      },
      "source": [
        "<a href=\"https://colab.research.google.com/github/SoumyoNathTripathy/LGMVIP-DataScience/blob/main/Task_3_Music_Recommendation_.ipynb\" target=\"_parent\"><img src=\"https://colab.research.google.com/assets/colab-badge.svg\" alt=\"Open In Colab\"/></a>"
      ]
    },
    {
      "cell_type": "markdown",
      "metadata": {
        "id": "uCoMicpFnrPT"
      },
      "source": [
        "# Author- SOUMYO NATH TRIPATHY\n",
        "\n",
        "# **LETS GROW MORE**\n",
        "\n",
        "Level- **Beginner**.\n",
        "\n",
        "**Task 3- Music Recommendation:**\n",
        "\n",
        "Dataset-   https://www.kaggle.com/c/kkbox-music-recommendation-challenge/data"
      ]
    },
    {
      "cell_type": "markdown",
      "metadata": {
        "id": "h7pShzNzoUVN"
      },
      "source": [
        "(IMPORTING LIBRARIES)"
      ]
    },
    {
      "cell_type": "code",
      "metadata": {
        "id": "WUwtWOhCnd6G"
      },
      "source": [
        "import pandas as pd\n",
        "import matplotlib.pyplot as plt\n",
        "get_ipython().run_line_magic('matplotlib', 'inline')\n",
        "import numpy as np \n",
        "import seaborn as sns"
      ],
      "execution_count": null,
      "outputs": []
    },
    {
      "cell_type": "markdown",
      "metadata": {
        "id": "5vlGrRHTD6lB"
      },
      "source": [
        "(LOADING DATA)"
      ]
    },
    {
      "cell_type": "code",
      "metadata": {
        "id": "Dc2CNO9QDuMW"
      },
      "source": [
        "def reduce_mem_usage(df):\n",
        "    \"\"\" iterate through all the columns of a dataframe and modify the data type\n",
        "        to reduce memory usage.        \n",
        "    \"\"\"\n",
        "    start_mem = df.memory_usage().sum() / 1024**2\n",
        "    print('Memory usage of dataframe is {:.2f} MB'.format(start_mem))\n",
        "    \n",
        "    for col in df.columns:\n",
        "        col_type = df[col].dtype\n",
        "        \n",
        "        if col_type != object:\n",
        "            c_min = df[col].min()\n",
        "            c_max = df[col].max()\n",
        "            if str(col_type)[:3] == 'int':\n",
        "                if c_min > np.iinfo(np.int8).min and c_max < np.iinfo(np.int8).max:\n",
        "                    df[col] = df[col].astype(np.int8)\n",
        "                elif c_min > np.iinfo(np.int16).min and c_max < np.iinfo(np.int16).max:\n",
        "                    df[col] = df[col].astype(np.int16)\n",
        "                elif c_min > np.iinfo(np.int32).min and c_max < np.iinfo(np.int32).max:\n",
        "                    df[col] = df[col].astype(np.int32)\n",
        "                elif c_min > np.iinfo(np.int64).min and c_max < np.iinfo(np.int64).max:\n",
        "                    df[col] = df[col].astype(np.int64)  \n",
        "            else:\n",
        "                if c_min > np.finfo(np.float16).min and c_max < np.finfo(np.float16).max:\n",
        "                    df[col] = df[col].astype(np.float16)\n",
        "                elif c_min > np.finfo(np.float32).min and c_max < np.finfo(np.float32).max:\n",
        "                    df[col] = df[col].astype(np.float32)\n",
        "                else:\n",
        "                    df[col] = df[col].astype(np.float64)\n",
        "        else:\n",
        "            df[col] = df[col].astype('category')\n",
        "\n",
        "    end_mem = df.memory_usage().sum() / 1024**2\n",
        "    print('Memory usage after optimization is: {:.2f} MB'.format(end_mem))\n",
        "    print('Decreased by {:.1f}%'.format(100 * (start_mem - end_mem) / start_mem))\n",
        "    \n",
        "    return df       \n",
        "         "
      ],
      "execution_count": null,
      "outputs": []
    },
    {
      "cell_type": "code",
      "metadata": {
        "colab": {
          "base_uri": "https://localhost:8080/"
        },
        "id": "pee3iqvPI8sk",
        "outputId": "727e6f16-8c3f-45d7-982c-dcd1d86d90f2"
      },
      "source": [
        "train = reduce_mem_usage(pd.read_csv('train.csv'))\n",
        "#test = reduce_mem_usage(pd.read_csv('test.csv'))\n",
        "ext_song = reduce_mem_usage(pd.read_csv('song_extra_info.csv'))\n",
        "members = (pd.read_csv('members.csv',parse_dates=['registration_init_time','expiration_date']))\n",
        "songs = reduce_mem_usage(pd.read_csv('songs.csv'))"
      ],
      "execution_count": null,
      "outputs": [
        {
          "output_type": "stream",
          "name": "stdout",
          "text": [
            "Memory usage of dataframe is 15.40 MB\n",
            "Memory usage after optimization is: 6.90 MB\n",
            "Decreased by 55.2%\n",
            "Memory usage of dataframe is 13.60 MB\n",
            "Memory usage after optimization is: 67.84 MB\n",
            "Decreased by -398.8%\n",
            "Memory usage of dataframe is 25.12 MB\n",
            "Memory usage after optimization is: 44.73 MB\n",
            "Decreased by -78.1%\n"
          ]
        }
      ]
    },
    {
      "cell_type": "markdown",
      "metadata": {
        "id": "YvA71Lmq93T4"
      },
      "source": [
        "(VISUALIZE DATA)"
      ]
    },
    {
      "cell_type": "code",
      "metadata": {
        "colab": {
          "base_uri": "https://localhost:8080/",
          "height": 258
        },
        "id": "qRBydZoR99Cn",
        "outputId": "aed2d1b7-dacd-463e-f4ef-f4edcc1779a7"
      },
      "source": [
        "train.head()"
      ],
      "execution_count": null,
      "outputs": [
        {
          "output_type": "execute_result",
          "data": {
            "text/html": [
              "<div>\n",
              "<style scoped>\n",
              "    .dataframe tbody tr th:only-of-type {\n",
              "        vertical-align: middle;\n",
              "    }\n",
              "\n",
              "    .dataframe tbody tr th {\n",
              "        vertical-align: top;\n",
              "    }\n",
              "\n",
              "    .dataframe thead th {\n",
              "        text-align: right;\n",
              "    }\n",
              "</style>\n",
              "<table border=\"1\" class=\"dataframe\">\n",
              "  <thead>\n",
              "    <tr style=\"text-align: right;\">\n",
              "      <th></th>\n",
              "      <th>msno</th>\n",
              "      <th>song_id</th>\n",
              "      <th>source_system_tab</th>\n",
              "      <th>source_screen_name</th>\n",
              "      <th>source_type</th>\n",
              "      <th>target</th>\n",
              "    </tr>\n",
              "  </thead>\n",
              "  <tbody>\n",
              "    <tr>\n",
              "      <th>0</th>\n",
              "      <td>FGtllVqz18RPiwJj/edr2gV78zirAiY/9SmYvia+kCg=</td>\n",
              "      <td>BBzumQNXUHKdEBOB7mAJuzok+IJA1c2Ryg/yzTF6tik=</td>\n",
              "      <td>explore</td>\n",
              "      <td>Explore</td>\n",
              "      <td>online-playlist</td>\n",
              "      <td>1.0</td>\n",
              "    </tr>\n",
              "    <tr>\n",
              "      <th>1</th>\n",
              "      <td>Xumu+NIjS6QYVxDS4/t3SawvJ7viT9hPKXmf0RtLNx8=</td>\n",
              "      <td>bhp/MpSNoqoxOIB+/l8WPqu6jldth4DIpCm3ayXnJqM=</td>\n",
              "      <td>my library</td>\n",
              "      <td>Local playlist more</td>\n",
              "      <td>local-playlist</td>\n",
              "      <td>1.0</td>\n",
              "    </tr>\n",
              "    <tr>\n",
              "      <th>2</th>\n",
              "      <td>Xumu+NIjS6QYVxDS4/t3SawvJ7viT9hPKXmf0RtLNx8=</td>\n",
              "      <td>JNWfrrC7zNN7BdMpsISKa4Mw+xVJYNnxXh3/Epw7QgY=</td>\n",
              "      <td>my library</td>\n",
              "      <td>Local playlist more</td>\n",
              "      <td>local-playlist</td>\n",
              "      <td>1.0</td>\n",
              "    </tr>\n",
              "    <tr>\n",
              "      <th>3</th>\n",
              "      <td>Xumu+NIjS6QYVxDS4/t3SawvJ7viT9hPKXmf0RtLNx8=</td>\n",
              "      <td>2A87tzfnJTSWqD7gIZHisolhe4DMdzkbd6LzO1KHjNs=</td>\n",
              "      <td>my library</td>\n",
              "      <td>Local playlist more</td>\n",
              "      <td>local-playlist</td>\n",
              "      <td>1.0</td>\n",
              "    </tr>\n",
              "    <tr>\n",
              "      <th>4</th>\n",
              "      <td>FGtllVqz18RPiwJj/edr2gV78zirAiY/9SmYvia+kCg=</td>\n",
              "      <td>3qm6XTZ6MOCU11x8FIVbAGH5l5uMkT3/ZalWG1oo2Gc=</td>\n",
              "      <td>explore</td>\n",
              "      <td>Explore</td>\n",
              "      <td>online-playlist</td>\n",
              "      <td>1.0</td>\n",
              "    </tr>\n",
              "  </tbody>\n",
              "</table>\n",
              "</div>"
            ],
            "text/plain": [
              "                                           msno  ... target\n",
              "0  FGtllVqz18RPiwJj/edr2gV78zirAiY/9SmYvia+kCg=  ...    1.0\n",
              "1  Xumu+NIjS6QYVxDS4/t3SawvJ7viT9hPKXmf0RtLNx8=  ...    1.0\n",
              "2  Xumu+NIjS6QYVxDS4/t3SawvJ7viT9hPKXmf0RtLNx8=  ...    1.0\n",
              "3  Xumu+NIjS6QYVxDS4/t3SawvJ7viT9hPKXmf0RtLNx8=  ...    1.0\n",
              "4  FGtllVqz18RPiwJj/edr2gV78zirAiY/9SmYvia+kCg=  ...    1.0\n",
              "\n",
              "[5 rows x 6 columns]"
            ]
          },
          "metadata": {},
          "execution_count": 4
        }
      ]
    },
    {
      "cell_type": "code",
      "metadata": {
        "colab": {
          "base_uri": "https://localhost:8080/"
        },
        "id": "1uPwA0Ih-jhi",
        "outputId": "cc8e512c-88df-4ab2-833c-039d96802c3c"
      },
      "source": [
        "train.info()"
      ],
      "execution_count": null,
      "outputs": [
        {
          "output_type": "stream",
          "name": "stdout",
          "text": [
            "<class 'pandas.core.frame.DataFrame'>\n",
            "RangeIndex: 336330 entries, 0 to 336329\n",
            "Data columns (total 6 columns):\n",
            " #   Column              Non-Null Count   Dtype   \n",
            "---  ------              --------------   -----   \n",
            " 0   msno                336330 non-null  category\n",
            " 1   song_id             336330 non-null  category\n",
            " 2   source_system_tab   335415 non-null  category\n",
            " 3   source_screen_name  321265 non-null  category\n",
            " 4   source_type         335677 non-null  category\n",
            " 5   target              336329 non-null  float16 \n",
            "dtypes: category(5), float16(1)\n",
            "memory usage: 6.9 MB\n"
          ]
        }
      ]
    },
    {
      "cell_type": "code",
      "metadata": {
        "colab": {
          "base_uri": "https://localhost:8080/",
          "height": 306
        },
        "id": "AbgtSvKe-nN0",
        "outputId": "37c63a33-4b74-48b6-86e5-b98239e87f98"
      },
      "source": [
        "\n",
        "songs.head()"
      ],
      "execution_count": null,
      "outputs": [
        {
          "output_type": "execute_result",
          "data": {
            "text/html": [
              "<div>\n",
              "<style scoped>\n",
              "    .dataframe tbody tr th:only-of-type {\n",
              "        vertical-align: middle;\n",
              "    }\n",
              "\n",
              "    .dataframe tbody tr th {\n",
              "        vertical-align: top;\n",
              "    }\n",
              "\n",
              "    .dataframe thead th {\n",
              "        text-align: right;\n",
              "    }\n",
              "</style>\n",
              "<table border=\"1\" class=\"dataframe\">\n",
              "  <thead>\n",
              "    <tr style=\"text-align: right;\">\n",
              "      <th></th>\n",
              "      <th>song_id</th>\n",
              "      <th>song_length</th>\n",
              "      <th>genre_ids</th>\n",
              "      <th>artist_name</th>\n",
              "      <th>composer</th>\n",
              "      <th>lyricist</th>\n",
              "      <th>language</th>\n",
              "    </tr>\n",
              "  </thead>\n",
              "  <tbody>\n",
              "    <tr>\n",
              "      <th>0</th>\n",
              "      <td>CXoTN1eb7AI+DntdU1vbcwGRV4SCIDxZu+YD8JP8r4E=</td>\n",
              "      <td>247640.0</td>\n",
              "      <td>465</td>\n",
              "      <td>張信哲 (Jeff Chang)</td>\n",
              "      <td>董貞</td>\n",
              "      <td>何啟弘</td>\n",
              "      <td>3.0</td>\n",
              "    </tr>\n",
              "    <tr>\n",
              "      <th>1</th>\n",
              "      <td>o0kFgae9QtnYgRkVPqLJwa05zIhRlUjfF7O1tDw0ZDU=</td>\n",
              "      <td>197328.0</td>\n",
              "      <td>444</td>\n",
              "      <td>BLACKPINK</td>\n",
              "      <td>TEDDY|  FUTURE BOUNCE|  Bekuh BOOM</td>\n",
              "      <td>TEDDY</td>\n",
              "      <td>31.0</td>\n",
              "    </tr>\n",
              "    <tr>\n",
              "      <th>2</th>\n",
              "      <td>DwVvVurfpuz+XPuFvucclVQEyPqcpUkHR0ne1RQzPs0=</td>\n",
              "      <td>231781.0</td>\n",
              "      <td>465</td>\n",
              "      <td>SUPER JUNIOR</td>\n",
              "      <td>NaN</td>\n",
              "      <td>NaN</td>\n",
              "      <td>31.0</td>\n",
              "    </tr>\n",
              "    <tr>\n",
              "      <th>3</th>\n",
              "      <td>dKMBWoZyScdxSkihKG+Vf47nc18N9q4m58+b4e7dSSE=</td>\n",
              "      <td>273554.0</td>\n",
              "      <td>465</td>\n",
              "      <td>S.H.E</td>\n",
              "      <td>湯小康</td>\n",
              "      <td>徐世珍</td>\n",
              "      <td>3.0</td>\n",
              "    </tr>\n",
              "    <tr>\n",
              "      <th>4</th>\n",
              "      <td>W3bqWd3T+VeHFzHAUfARgW9AvVRaF4N5Yzm4Mr6Eo/o=</td>\n",
              "      <td>140329.0</td>\n",
              "      <td>726</td>\n",
              "      <td>貴族精選</td>\n",
              "      <td>Traditional</td>\n",
              "      <td>Traditional</td>\n",
              "      <td>52.0</td>\n",
              "    </tr>\n",
              "  </tbody>\n",
              "</table>\n",
              "</div>"
            ],
            "text/plain": [
              "                                        song_id  ...  language\n",
              "0  CXoTN1eb7AI+DntdU1vbcwGRV4SCIDxZu+YD8JP8r4E=  ...       3.0\n",
              "1  o0kFgae9QtnYgRkVPqLJwa05zIhRlUjfF7O1tDw0ZDU=  ...      31.0\n",
              "2  DwVvVurfpuz+XPuFvucclVQEyPqcpUkHR0ne1RQzPs0=  ...      31.0\n",
              "3  dKMBWoZyScdxSkihKG+Vf47nc18N9q4m58+b4e7dSSE=  ...       3.0\n",
              "4  W3bqWd3T+VeHFzHAUfARgW9AvVRaF4N5Yzm4Mr6Eo/o=  ...      52.0\n",
              "\n",
              "[5 rows x 7 columns]"
            ]
          },
          "metadata": {},
          "execution_count": 6
        }
      ]
    },
    {
      "cell_type": "code",
      "metadata": {
        "colab": {
          "base_uri": "https://localhost:8080/"
        },
        "id": "NloElN5wAvTE",
        "outputId": "a64b66cb-449d-4628-901c-e9cb92c8bab9"
      },
      "source": [
        "songs.info()"
      ],
      "execution_count": null,
      "outputs": [
        {
          "output_type": "stream",
          "name": "stdout",
          "text": [
            "<class 'pandas.core.frame.DataFrame'>\n",
            "RangeIndex: 470313 entries, 0 to 470312\n",
            "Data columns (total 7 columns):\n",
            " #   Column       Non-Null Count   Dtype   \n",
            "---  ------       --------------   -----   \n",
            " 0   song_id      470313 non-null  category\n",
            " 1   song_length  470312 non-null  float32 \n",
            " 2   genre_ids    457224 non-null  category\n",
            " 3   artist_name  470312 non-null  category\n",
            " 4   composer     262297 non-null  category\n",
            " 5   lyricist     101107 non-null  category\n",
            " 6   language     470312 non-null  float16 \n",
            "dtypes: category(5), float16(1), float32(1)\n",
            "memory usage: 44.7 MB\n"
          ]
        }
      ]
    },
    {
      "cell_type": "code",
      "metadata": {
        "colab": {
          "base_uri": "https://localhost:8080/",
          "height": 204
        },
        "id": "tmVCXtojA1gB",
        "outputId": "d9cf3e8c-23a0-4484-f5f1-45ac5c168822"
      },
      "source": [
        "ext_song.head()"
      ],
      "execution_count": null,
      "outputs": [
        {
          "output_type": "execute_result",
          "data": {
            "text/html": [
              "<div>\n",
              "<style scoped>\n",
              "    .dataframe tbody tr th:only-of-type {\n",
              "        vertical-align: middle;\n",
              "    }\n",
              "\n",
              "    .dataframe tbody tr th {\n",
              "        vertical-align: top;\n",
              "    }\n",
              "\n",
              "    .dataframe thead th {\n",
              "        text-align: right;\n",
              "    }\n",
              "</style>\n",
              "<table border=\"1\" class=\"dataframe\">\n",
              "  <thead>\n",
              "    <tr style=\"text-align: right;\">\n",
              "      <th></th>\n",
              "      <th>song_id</th>\n",
              "      <th>name</th>\n",
              "      <th>isrc</th>\n",
              "    </tr>\n",
              "  </thead>\n",
              "  <tbody>\n",
              "    <tr>\n",
              "      <th>0</th>\n",
              "      <td>LP7pLJoJFBvyuUwvu+oLzjT+bI+UeBPURCecJsX1jjs=</td>\n",
              "      <td>我們</td>\n",
              "      <td>TWUM71200043</td>\n",
              "    </tr>\n",
              "    <tr>\n",
              "      <th>1</th>\n",
              "      <td>ClazTFnk6r0Bnuie44bocdNMM3rdlrq0bCGAsGUWcHE=</td>\n",
              "      <td>Let Me Love You</td>\n",
              "      <td>QMZSY1600015</td>\n",
              "    </tr>\n",
              "    <tr>\n",
              "      <th>2</th>\n",
              "      <td>u2ja/bZE3zhCGxvbbOB3zOoUjx27u40cf5g09UXMoKQ=</td>\n",
              "      <td>原諒我</td>\n",
              "      <td>TWA530887303</td>\n",
              "    </tr>\n",
              "    <tr>\n",
              "      <th>3</th>\n",
              "      <td>92Fqsy0+p6+RHe2EoLKjHahORHR1Kq1TBJoClW9v+Ts=</td>\n",
              "      <td>Classic</td>\n",
              "      <td>USSM11301446</td>\n",
              "    </tr>\n",
              "    <tr>\n",
              "      <th>4</th>\n",
              "      <td>0QFmz/+rJy1Q56C1DuYqT9hKKqi5TUqx0sN0IwvoHrw=</td>\n",
              "      <td>愛投羅網</td>\n",
              "      <td>TWA471306001</td>\n",
              "    </tr>\n",
              "  </tbody>\n",
              "</table>\n",
              "</div>"
            ],
            "text/plain": [
              "                                        song_id             name          isrc\n",
              "0  LP7pLJoJFBvyuUwvu+oLzjT+bI+UeBPURCecJsX1jjs=               我們  TWUM71200043\n",
              "1  ClazTFnk6r0Bnuie44bocdNMM3rdlrq0bCGAsGUWcHE=  Let Me Love You  QMZSY1600015\n",
              "2  u2ja/bZE3zhCGxvbbOB3zOoUjx27u40cf5g09UXMoKQ=              原諒我  TWA530887303\n",
              "3  92Fqsy0+p6+RHe2EoLKjHahORHR1Kq1TBJoClW9v+Ts=          Classic  USSM11301446\n",
              "4  0QFmz/+rJy1Q56C1DuYqT9hKKqi5TUqx0sN0IwvoHrw=             愛投羅網  TWA471306001"
            ]
          },
          "metadata": {},
          "execution_count": 8
        }
      ]
    },
    {
      "cell_type": "code",
      "metadata": {
        "colab": {
          "base_uri": "https://localhost:8080/"
        },
        "id": "pjSUEcIeA9cA",
        "outputId": "417409bc-0db7-471d-f6c4-20aea3f9f8c0"
      },
      "source": [
        "\n",
        "ext_song.info()"
      ],
      "execution_count": null,
      "outputs": [
        {
          "output_type": "stream",
          "name": "stdout",
          "text": [
            "<class 'pandas.core.frame.DataFrame'>\n",
            "RangeIndex: 594228 entries, 0 to 594227\n",
            "Data columns (total 3 columns):\n",
            " #   Column   Non-Null Count   Dtype   \n",
            "---  ------   --------------   -----   \n",
            " 0   song_id  594228 non-null  category\n",
            " 1   name     594226 non-null  category\n",
            " 2   isrc     535321 non-null  category\n",
            "dtypes: category(3)\n",
            "memory usage: 67.8 MB\n"
          ]
        }
      ]
    },
    {
      "cell_type": "code",
      "metadata": {
        "colab": {
          "base_uri": "https://localhost:8080/",
          "height": 224
        },
        "id": "iCOhazcjCAxs",
        "outputId": "41714b8c-a8ce-4953-a2eb-a98b82f19d97"
      },
      "source": [
        "members.head()"
      ],
      "execution_count": null,
      "outputs": [
        {
          "output_type": "execute_result",
          "data": {
            "text/html": [
              "<div>\n",
              "<style scoped>\n",
              "    .dataframe tbody tr th:only-of-type {\n",
              "        vertical-align: middle;\n",
              "    }\n",
              "\n",
              "    .dataframe tbody tr th {\n",
              "        vertical-align: top;\n",
              "    }\n",
              "\n",
              "    .dataframe thead th {\n",
              "        text-align: right;\n",
              "    }\n",
              "</style>\n",
              "<table border=\"1\" class=\"dataframe\">\n",
              "  <thead>\n",
              "    <tr style=\"text-align: right;\">\n",
              "      <th></th>\n",
              "      <th>msno</th>\n",
              "      <th>city</th>\n",
              "      <th>bd</th>\n",
              "      <th>gender</th>\n",
              "      <th>registered_via</th>\n",
              "      <th>registration_init_time</th>\n",
              "      <th>expiration_date</th>\n",
              "    </tr>\n",
              "  </thead>\n",
              "  <tbody>\n",
              "    <tr>\n",
              "      <th>0</th>\n",
              "      <td>XQxgAYj3klVKjR3oxPPXYYFp4soD4TuBghkhMTD4oTw=</td>\n",
              "      <td>1</td>\n",
              "      <td>0</td>\n",
              "      <td>NaN</td>\n",
              "      <td>7</td>\n",
              "      <td>2011-08-20</td>\n",
              "      <td>2017-09-20</td>\n",
              "    </tr>\n",
              "    <tr>\n",
              "      <th>1</th>\n",
              "      <td>UizsfmJb9mV54qE9hCYyU07Va97c0lCRLEQX3ae+ztM=</td>\n",
              "      <td>1</td>\n",
              "      <td>0</td>\n",
              "      <td>NaN</td>\n",
              "      <td>7</td>\n",
              "      <td>2015-06-28</td>\n",
              "      <td>2017-06-22</td>\n",
              "    </tr>\n",
              "    <tr>\n",
              "      <th>2</th>\n",
              "      <td>D8nEhsIOBSoE6VthTaqDX8U6lqjJ7dLdr72mOyLya2A=</td>\n",
              "      <td>1</td>\n",
              "      <td>0</td>\n",
              "      <td>NaN</td>\n",
              "      <td>4</td>\n",
              "      <td>2016-04-11</td>\n",
              "      <td>2017-07-12</td>\n",
              "    </tr>\n",
              "    <tr>\n",
              "      <th>3</th>\n",
              "      <td>mCuD+tZ1hERA/o5GPqk38e041J8ZsBaLcu7nGoIIvhI=</td>\n",
              "      <td>1</td>\n",
              "      <td>0</td>\n",
              "      <td>NaN</td>\n",
              "      <td>9</td>\n",
              "      <td>2015-09-06</td>\n",
              "      <td>2015-09-07</td>\n",
              "    </tr>\n",
              "    <tr>\n",
              "      <th>4</th>\n",
              "      <td>q4HRBfVSssAFS9iRfxWrohxuk9kCYMKjHOEagUMV6rQ=</td>\n",
              "      <td>1</td>\n",
              "      <td>0</td>\n",
              "      <td>NaN</td>\n",
              "      <td>4</td>\n",
              "      <td>2017-01-26</td>\n",
              "      <td>2017-06-13</td>\n",
              "    </tr>\n",
              "  </tbody>\n",
              "</table>\n",
              "</div>"
            ],
            "text/plain": [
              "                                           msno  ...  expiration_date\n",
              "0  XQxgAYj3klVKjR3oxPPXYYFp4soD4TuBghkhMTD4oTw=  ...       2017-09-20\n",
              "1  UizsfmJb9mV54qE9hCYyU07Va97c0lCRLEQX3ae+ztM=  ...       2017-06-22\n",
              "2  D8nEhsIOBSoE6VthTaqDX8U6lqjJ7dLdr72mOyLya2A=  ...       2017-07-12\n",
              "3  mCuD+tZ1hERA/o5GPqk38e041J8ZsBaLcu7nGoIIvhI=  ...       2015-09-07\n",
              "4  q4HRBfVSssAFS9iRfxWrohxuk9kCYMKjHOEagUMV6rQ=  ...       2017-06-13\n",
              "\n",
              "[5 rows x 7 columns]"
            ]
          },
          "metadata": {},
          "execution_count": 10
        }
      ]
    },
    {
      "cell_type": "code",
      "metadata": {
        "colab": {
          "base_uri": "https://localhost:8080/"
        },
        "id": "wQT_-MjGCEjM",
        "outputId": "742814df-0706-4116-eb0e-f3aa3f4dd715"
      },
      "source": [
        "\n",
        "members.info()"
      ],
      "execution_count": null,
      "outputs": [
        {
          "output_type": "stream",
          "name": "stdout",
          "text": [
            "<class 'pandas.core.frame.DataFrame'>\n",
            "RangeIndex: 34403 entries, 0 to 34402\n",
            "Data columns (total 7 columns):\n",
            " #   Column                  Non-Null Count  Dtype         \n",
            "---  ------                  --------------  -----         \n",
            " 0   msno                    34403 non-null  object        \n",
            " 1   city                    34403 non-null  int64         \n",
            " 2   bd                      34403 non-null  int64         \n",
            " 3   gender                  14501 non-null  object        \n",
            " 4   registered_via          34403 non-null  int64         \n",
            " 5   registration_init_time  34403 non-null  datetime64[ns]\n",
            " 6   expiration_date         34403 non-null  datetime64[ns]\n",
            "dtypes: datetime64[ns](2), int64(3), object(2)\n",
            "memory usage: 1.8+ MB\n"
          ]
        }
      ]
    },
    {
      "cell_type": "markdown",
      "metadata": {
        "id": "iDtwpckoCOn0"
      },
      "source": [
        "(EDA)"
      ]
    },
    {
      "cell_type": "code",
      "metadata": {
        "colab": {
          "base_uri": "https://localhost:8080/",
          "height": 279
        },
        "id": "kl3lbxmJCQiF",
        "outputId": "77382f14-54a2-4cc4-9ad7-e6bb33183631"
      },
      "source": [
        "sns.countplot(y=train['target'],data=train)\n",
        "plt.ylabel('target classes')\n",
        "plt.xlabel('count of each Target ')\n",
        "plt.show()"
      ],
      "execution_count": null,
      "outputs": [
        {
          "output_type": "display_data",
          "data": {
            "image/png": "[encoded data removed]",
            "text/plain": [
              "<Figure size 432x288 with 1 Axes>"
            ]
          },
          "metadata": {
            "needs_background": "light"
          }
        }
      ]
    },
    {
      "cell_type": "code",
      "metadata": {
        "colab": {
          "base_uri": "https://localhost:8080/",
          "height": 279
        },
        "id": "L_RP9BgHDeFA",
        "outputId": "f241bb63-5e11-4dfd-d6f2-94b5a0d435af"
      },
      "source": [
        " sns.countplot(y=train['source_type'],data=train)\n",
        "plt.ylabel('source type ')\n",
        "plt.xlabel('count of each source type')\n",
        "plt.show()"
      ],
      "execution_count": null,
      "outputs": [
        {
          "output_type": "display_data",
          "data": {
            "image/png": "[encoded data removed]",
            "text/plain": [
              "<Figure size 432x288 with 1 Axes>"
            ]
          },
          "metadata": {
            "needs_background": "light"
          }
        }
      ]
    },
    {
      "cell_type": "code",
      "metadata": {
        "id": "xM3W0UNDFdxH"
      },
      "source": [
        "#mising values\n",
        "def miss_val(df):\n",
        "    for col in df.columns:\n",
        "        nan_count=df[col].isnull().sum()\n",
        "        total= df.shape[0]\n",
        "        pp= (nan_count/ total )* 100\n",
        "        #print(type(pp))\n",
        "        print(col,'has' ,pp,'% missing values')"
      ],
      "execution_count": null,
      "outputs": []
    },
    {
      "cell_type": "code",
      "metadata": {
        "colab": {
          "base_uri": "https://localhost:8080/"
        },
        "id": "46ek9kQlGWXk",
        "outputId": "27a2c49c-9378-4b31-ddc1-e435c567439b"
      },
      "source": [
        "\n",
        "print('Taning data')\n",
        "miss_val(train)"
      ],
      "execution_count": null,
      "outputs": [
        {
          "output_type": "stream",
          "name": "stdout",
          "text": [
            "Taning data\n",
            "msno has 0.0 % missing values\n",
            "song_id has 0.0 % missing values\n",
            "source_system_tab has 0.27205423245027205 % missing values\n",
            "source_screen_name has 4.479231706954479 % missing values\n",
            "source_type has 0.19415455059019415 % missing values\n",
            "target has 0.00029732703000029734 % missing values\n"
          ]
        }
      ]
    },
    {
      "cell_type": "code",
      "metadata": {
        "colab": {
          "base_uri": "https://localhost:8080/"
        },
        "id": "hap4ml3MHtbm",
        "outputId": "abbe83f0-4e2a-4a16-e039-2ffd3a55a072"
      },
      "source": [
        "print('members  data')\n",
        "miss_val(members)"
      ],
      "execution_count": null,
      "outputs": [
        {
          "output_type": "stream",
          "name": "stdout",
          "text": [
            "members  data\n",
            "msno has 0.0 % missing values\n",
            "city has 0.0 % missing values\n",
            "bd has 0.0 % missing values\n",
            "gender has 57.84960613899951 % missing values\n",
            "registered_via has 0.0 % missing values\n",
            "registration_init_time has 0.0 % missing values\n",
            "expiration_date has 0.0 % missing values\n"
          ]
        }
      ]
    },
    {
      "cell_type": "code",
      "metadata": {
        "colab": {
          "base_uri": "https://localhost:8080/"
        },
        "id": "dI7UetvSHzTb",
        "outputId": "c715e918-fc2e-4c22-a294-454f36508fee"
      },
      "source": [
        "print('Song data')\n",
        "miss_val(songs)"
      ],
      "execution_count": null,
      "outputs": [
        {
          "output_type": "stream",
          "name": "stdout",
          "text": [
            "Song data\n",
            "song_id has 0.0 % missing values\n",
            "song_length has 0.00021262435867177817 % missing values\n",
            "genre_ids has 2.7830402306549042 % missing values\n",
            "artist_name has 0.00021262435867177817 % missing values\n",
            "composer has 44.2292685934686 % missing values\n",
            "lyricist has 78.50218896777253 % missing values\n",
            "language has 0.00021262435867177817 % missing values\n"
          ]
        }
      ]
    },
    {
      "cell_type": "code",
      "metadata": {
        "colab": {
          "base_uri": "https://localhost:8080/"
        },
        "id": "JyFEH1cdH5Ng",
        "outputId": "9f418bfd-71e9-4c59-a4b2-3ba04ab0b42f"
      },
      "source": [
        "print('ext_song.info data')\n",
        "miss_val(ext_song)"
      ],
      "execution_count": null,
      "outputs": [
        {
          "output_type": "stream",
          "name": "stdout",
          "text": [
            "ext_song.info data\n",
            "song_id has 0.0 % missing values\n",
            "name has 0.0003365711477749281 % missing values\n",
            "isrc has 9.913198300988846 % missing values\n"
          ]
        }
      ]
    },
    {
      "cell_type": "markdown",
      "metadata": {
        "id": "GEzd7-cNH9ga"
      },
      "source": [
        "(handling missing values)"
      ]
    },
    {
      "cell_type": "code",
      "metadata": {
        "colab": {
          "base_uri": "https://localhost:8080/"
        },
        "id": "QgKN9xDDIDCv",
        "outputId": "d7b6cada-b217-45ee-ab30-ba26dbdf062c"
      },
      "source": [
        "train['source_system_tab'].value_counts()"
      ],
      "execution_count": null,
      "outputs": [
        {
          "output_type": "execute_result",
          "data": {
            "text/plain": [
              "my library      234952\n",
              "discover         63911\n",
              "search           12945\n",
              "radio            11598\n",
              "listen with       6423\n",
              "explore           5205\n",
              "settings           227\n",
              "notification       154\n",
              "Name: source_system_tab, dtype: int64"
            ]
          },
          "metadata": {},
          "execution_count": 19
        }
      ]
    },
    {
      "cell_type": "code",
      "metadata": {
        "id": "WvtafGVMIJiz"
      },
      "source": [
        "#replace with my library \n",
        "train['source_system_tab'].fillna('my library',inplace=True)"
      ],
      "execution_count": null,
      "outputs": []
    },
    {
      "cell_type": "code",
      "metadata": {
        "colab": {
          "base_uri": "https://localhost:8080/"
        },
        "id": "BjQajkMdIN5k",
        "outputId": "ee98e345-2ea5-46ba-ce23-bfc3ca983523"
      },
      "source": [
        "train['source_type'].value_counts()"
      ],
      "execution_count": null,
      "outputs": [
        {
          "output_type": "execute_result",
          "data": {
            "text/plain": [
              "local-library             151193\n",
              "local-playlist             77258\n",
              "online-playlist            56912\n",
              "radio                      11421\n",
              "album                      10628\n",
              "top-hits-for-artist        10185\n",
              "song-based-playlist         6787\n",
              "listen-with                 5835\n",
              "song                        4782\n",
              "artist                       400\n",
              "topic-article-playlist       275\n",
              "local-lib                      1\n",
              "Name: source_type, dtype: int64"
            ]
          },
          "metadata": {},
          "execution_count": 21
        }
      ]
    },
    {
      "cell_type": "code",
      "metadata": {
        "id": "anFITp5EIUTl"
      },
      "source": [
        "#replace with local-library \n",
        "train['source_type'].fillna('local-library',inplace=True)"
      ],
      "execution_count": null,
      "outputs": []
    },
    {
      "cell_type": "code",
      "metadata": {
        "colab": {
          "base_uri": "https://localhost:8080/"
        },
        "id": "92wOktf9IWVX",
        "outputId": "ea3546cf-22d6-4649-d91b-679326333952"
      },
      "source": [
        "train['source_screen_name'].value_counts()"
      ],
      "execution_count": null,
      "outputs": [
        {
          "output_type": "execute_result",
          "data": {
            "text/plain": [
              "Local playlist more     219053\n",
              "Online playlist more     36435\n",
              "Radio                    11274\n",
              "Album more                8564\n",
              "Discover Chart            7662\n",
              "Discover Feature          7606\n",
              "My library                6074\n",
              "Artist more               5970\n",
              "Search                    5803\n",
              "Others profile more       5697\n",
              "Explore                   2827\n",
              "Discover Genre            2208\n",
              "Unknown                    906\n",
              "Search Home                354\n",
              "Discover New               315\n",
              "Search Trends              265\n",
              "My library_Search          241\n",
              "Self profile more           11\n",
              "Name: source_screen_name, dtype: int64"
            ]
          },
          "metadata": {},
          "execution_count": 23
        }
      ]
    },
    {
      "cell_type": "code",
      "metadata": {
        "colab": {
          "base_uri": "https://localhost:8080/"
        },
        "id": "Bq7DA9bfIaG-",
        "outputId": "42db016e-5171-4a0e-e9be-5c8f9f1e4dd5"
      },
      "source": [
        "print('Taning data')\n",
        "miss_val(train)"
      ],
      "execution_count": null,
      "outputs": [
        {
          "output_type": "stream",
          "name": "stdout",
          "text": [
            "Taning data\n",
            "msno has 0.0 % missing values\n",
            "song_id has 0.0 % missing values\n",
            "source_system_tab has 0.0 % missing values\n",
            "source_screen_name has 4.479231706954479 % missing values\n",
            "source_type has 0.0 % missing values\n",
            "target has 0.00029732703000029734 % missing values\n"
          ]
        }
      ]
    },
    {
      "cell_type": "markdown",
      "metadata": {
        "id": "f_fjxfReIhew"
      },
      "source": [
        "(MEMBER DATA)"
      ]
    },
    {
      "cell_type": "code",
      "metadata": {
        "id": "ZstEAGRHIkWo"
      },
      "source": [
        "members.drop(['gender'], axis =1, inplace=True)"
      ],
      "execution_count": null,
      "outputs": []
    },
    {
      "cell_type": "code",
      "metadata": {
        "colab": {
          "base_uri": "https://localhost:8080/"
        },
        "id": "NH7XB-KCIokI",
        "outputId": "f6ad4a5d-8e47-47cf-b2ef-3b3d77f50788"
      },
      "source": [
        "print('members  data')\n",
        "miss_val(members)"
      ],
      "execution_count": null,
      "outputs": [
        {
          "output_type": "stream",
          "name": "stdout",
          "text": [
            "members  data\n",
            "msno has 0.0 % missing values\n",
            "city has 0.0 % missing values\n",
            "bd has 0.0 % missing values\n",
            "registered_via has 0.0 % missing values\n",
            "registration_init_time has 0.0 % missing values\n",
            "expiration_date has 0.0 % missing values\n"
          ]
        }
      ]
    },
    {
      "cell_type": "markdown",
      "metadata": {
        "id": "0FAAcRraI2Ux"
      },
      "source": [
        "(SONG DATA)"
      ]
    },
    {
      "cell_type": "code",
      "metadata": {
        "id": "US6-x8hjI5Rl"
      },
      "source": [
        "songs.drop(['composer'], axis =1, inplace=True)\n",
        "songs.drop(['lyricist'], axis =1, inplace=True)"
      ],
      "execution_count": null,
      "outputs": []
    },
    {
      "cell_type": "code",
      "metadata": {
        "colab": {
          "base_uri": "https://localhost:8080/"
        },
        "id": "jnN9fkyrI87o",
        "outputId": "443949c7-9a72-4aeb-a37d-feda67d8adc7"
      },
      "source": [
        "songs['genre_ids'].value_counts()"
      ],
      "execution_count": null,
      "outputs": [
        {
          "output_type": "execute_result",
          "data": {
            "text/plain": [
              "465             153695\n",
              "1609             31839\n",
              "2022             31205\n",
              "958              27661\n",
              "2122             21044\n",
              "                 ...  \n",
              "1180|139             1\n",
              "2022|242             1\n",
              "465|437              1\n",
              "1180|423             1\n",
              "465|2122|109         1\n",
              "Name: genre_ids, Length: 700, dtype: int64"
            ]
          },
          "metadata": {},
          "execution_count": 28
        }
      ]
    },
    {
      "cell_type": "code",
      "metadata": {
        "id": "TFtDVmbRJFsX"
      },
      "source": [
        "#replace with 465 \n",
        "songs['genre_ids'].fillna('465',inplace=True)"
      ],
      "execution_count": null,
      "outputs": []
    },
    {
      "cell_type": "code",
      "metadata": {
        "colab": {
          "base_uri": "https://localhost:8080/"
        },
        "id": "LXyseF2EJITO",
        "outputId": "4b8cfae2-3ed6-4c81-efd5-7a69b919a04b"
      },
      "source": [
        "songs['language'].value_counts()"
      ],
      "execution_count": null,
      "outputs": [
        {
          "output_type": "execute_result",
          "data": {
            "text/plain": [
              " 52.0    233787\n",
              "-1.0     109841\n",
              " 3.0      53060\n",
              " 17.0     31561\n",
              " 31.0     15382\n",
              " 24.0     14177\n",
              " 10.0      8050\n",
              " 45.0      2284\n",
              " 59.0      1825\n",
              " 38.0       345\n",
              "Name: language, dtype: int64"
            ]
          },
          "metadata": {},
          "execution_count": 30
        }
      ]
    },
    {
      "cell_type": "code",
      "metadata": {
        "id": "fZ_jlWKDJNXO"
      },
      "source": [
        "#replace with 465 \n",
        "songs['language'].fillna(52.0,inplace=True)"
      ],
      "execution_count": null,
      "outputs": []
    },
    {
      "cell_type": "code",
      "metadata": {
        "colab": {
          "base_uri": "https://localhost:8080/"
        },
        "id": "zAU9SXdAJQyw",
        "outputId": "d5bbea4d-ee9b-4294-c933-4214937514d1"
      },
      "source": [
        "print('songs.info data')\n",
        "miss_val(songs)"
      ],
      "execution_count": null,
      "outputs": [
        {
          "output_type": "stream",
          "name": "stdout",
          "text": [
            "songs.info data\n",
            "song_id has 0.0 % missing values\n",
            "song_length has 0.00021262435867177817 % missing values\n",
            "genre_ids has 0.0 % missing values\n",
            "artist_name has 0.00021262435867177817 % missing values\n",
            "language has 0.0 % missing values\n"
          ]
        }
      ]
    },
    {
      "cell_type": "markdown",
      "metadata": {
        "id": "XaCKXpaZJZMY"
      },
      "source": [
        "(SONG_EXTRA_INFO DATA)"
      ]
    },
    {
      "cell_type": "code",
      "metadata": {
        "colab": {
          "base_uri": "https://localhost:8080/"
        },
        "id": "b3TRT8leJfU6",
        "outputId": "d11a42dc-daa3-4237-8de5-1491f0fa8086"
      },
      "source": [
        "ext_song['name'].value_counts()"
      ],
      "execution_count": null,
      "outputs": [
        {
          "output_type": "execute_result",
          "data": {
            "text/plain": [
              "Intro                                               403\n",
              "Silent Night                                        266\n",
              "Jingle Bells                                        242\n",
              "White Christmas                                     238\n",
              "Home                                                215\n",
              "                                                   ... \n",
              "Take Me Back to Manhattan (From \"Anything Goes\")      1\n",
              "Take Me Back to Toyland                               1\n",
              "Take Me Back to Tulsa                                 1\n",
              "Take Me Beyond                                        1\n",
              " 'Che farò' from Orfeo ed Euridice (b)                1\n",
              "Name: name, Length: 377418, dtype: int64"
            ]
          },
          "metadata": {},
          "execution_count": 33
        }
      ]
    },
    {
      "cell_type": "code",
      "metadata": {
        "id": "KYI8FUcJJo8v"
      },
      "source": [
        "#replace with Into \n",
        "ext_song['name'].fillna('Intro',inplace=True)"
      ],
      "execution_count": null,
      "outputs": []
    },
    {
      "cell_type": "code",
      "metadata": {
        "colab": {
          "base_uri": "https://localhost:8080/"
        },
        "id": "gBN7dbVEJ1OF",
        "outputId": "b42e11ea-e32e-41b9-e92b-87ddb182ca4d"
      },
      "source": [
        "ext_song['isrc'].value_counts()"
      ],
      "execution_count": null,
      "outputs": [
        {
          "output_type": "execute_result",
          "data": {
            "text/plain": [
              "GBPS81527413    43\n",
              "GBPS81518943    38\n",
              "GBPS81527823    38\n",
              "GBPS81527820    37\n",
              "GBPS81518952    37\n",
              "                ..\n",
              "TWAL31500705     1\n",
              "TWAL31500706     1\n",
              "TWAL31500707     1\n",
              "TWAL31500708     1\n",
              "AAA201604181     1\n",
              "Name: isrc, Length: 474740, dtype: int64"
            ]
          },
          "metadata": {},
          "execution_count": 36
        }
      ]
    },
    {
      "cell_type": "code",
      "metadata": {
        "id": "SJTSIhWOJ6cR"
      },
      "source": [
        "#replace with Into \n",
        "ext_song['isrc'].fillna('GBPS81518952',inplace=True)"
      ],
      "execution_count": null,
      "outputs": []
    },
    {
      "cell_type": "code",
      "metadata": {
        "colab": {
          "base_uri": "https://localhost:8080/"
        },
        "id": "0NH2p3xvJ8Vo",
        "outputId": "a98d4b0f-3499-468e-8fc1-f2e48e8c229f"
      },
      "source": [
        "\n",
        "print('ext_song.info data')\n",
        "miss_val(ext_song)"
      ],
      "execution_count": null,
      "outputs": [
        {
          "output_type": "stream",
          "name": "stdout",
          "text": [
            "ext_song.info data\n",
            "song_id has 0.0 % missing values\n",
            "name has 0.0 % missing values\n",
            "isrc has 0.0 % missing values\n"
          ]
        }
      ]
    },
    {
      "cell_type": "markdown",
      "metadata": {
        "id": "tdmh03AoJ_eZ"
      },
      "source": [
        "(MERGING DATA)"
      ]
    },
    {
      "cell_type": "code",
      "metadata": {
        "id": "YCaTNWwFKB0f"
      },
      "source": [
        "#meging data\n",
        "songs_all= pd.merge(songs,ext_song,\n",
        "                     on ='song_id' ,how='left')\n",
        "train_memebrs= pd.merge(train,members,\n",
        "                    on ='msno' ,how='left')\n",
        "train_data= pd.merge(train_memebrs,songs_all,\n",
        "                     on ='song_id' ,how='left')"
      ],
      "execution_count": null,
      "outputs": []
    },
    {
      "cell_type": "code",
      "metadata": {
        "colab": {
          "base_uri": "https://localhost:8080/"
        },
        "id": "Utk9kOwQKSC1",
        "outputId": "7531703d-c2ac-42db-f655-93f9e1242705"
      },
      "source": [
        "train_data.info()"
      ],
      "execution_count": null,
      "outputs": [
        {
          "output_type": "stream",
          "name": "stdout",
          "text": [
            "<class 'pandas.core.frame.DataFrame'>\n",
            "Int64Index: 336330 entries, 0 to 336329\n",
            "Data columns (total 17 columns):\n",
            " #   Column                  Non-Null Count   Dtype         \n",
            "---  ------                  --------------   -----         \n",
            " 0   msno                    336330 non-null  object        \n",
            " 1   song_id                 336330 non-null  object        \n",
            " 2   source_system_tab       336330 non-null  category      \n",
            " 3   source_screen_name      321265 non-null  category      \n",
            " 4   source_type             336330 non-null  category      \n",
            " 5   target                  336329 non-null  float16       \n",
            " 6   city                    336330 non-null  int64         \n",
            " 7   bd                      336330 non-null  int64         \n",
            " 8   registered_via          336330 non-null  int64         \n",
            " 9   registration_init_time  336330 non-null  datetime64[ns]\n",
            " 10  expiration_date         336330 non-null  datetime64[ns]\n",
            " 11  song_length             238110 non-null  float32       \n",
            " 12  genre_ids               238110 non-null  category      \n",
            " 13  artist_name             238110 non-null  category      \n",
            " 14  language                238110 non-null  float16       \n",
            " 15  name                    187090 non-null  category      \n",
            " 16  isrc                    187090 non-null  category      \n",
            "dtypes: category(7), datetime64[ns](2), float16(2), float32(1), int64(3), object(2)\n",
            "memory usage: 68.1+ MB\n"
          ]
        }
      ]
    },
    {
      "cell_type": "code",
      "metadata": {
        "id": "EVG9PmMbKVk3"
      },
      "source": [
        "train_data.drop(['msno'], axis =1, inplace=True)\n",
        "train_data.drop(['song_id'], axis =1, inplace=True)\n",
        "train_data.drop(['isrc'], axis =1, inplace=True)\n",
        "train_data.drop(['artist_name'], axis =1, inplace=True)\n",
        "train_data.drop(['genre_ids'], axis =1, inplace=True)\n",
        "train_data.drop(['name'], axis =1, inplace=True)"
      ],
      "execution_count": null,
      "outputs": []
    },
    {
      "cell_type": "code",
      "metadata": {
        "colab": {
          "base_uri": "https://localhost:8080/",
          "height": 258
        },
        "id": "2-bHj3HlKcnR",
        "outputId": "86d2b8d0-54df-4244-a6f3-9d8847473e5b"
      },
      "source": [
        "train_data['membership_days'] = train_data['expiration_date'].subtract(train_data['registration_init_time']).dt.days.astype(int)\n",
        "train_data['registration_year'] = train_data['registration_init_time'].dt.year\n",
        "train_data['expiration_year'] = train_data['expiration_date'].dt.year\n",
        "train_data.drop(columns = ['registration_init_time' , 'expiration_date'] , inplace = True)\n",
        "train_data.head()"
      ],
      "execution_count": null,
      "outputs": [
        {
          "output_type": "execute_result",
          "data": {
            "text/html": [
              "<div>\n",
              "<style scoped>\n",
              "    .dataframe tbody tr th:only-of-type {\n",
              "        vertical-align: middle;\n",
              "    }\n",
              "\n",
              "    .dataframe tbody tr th {\n",
              "        vertical-align: top;\n",
              "    }\n",
              "\n",
              "    .dataframe thead th {\n",
              "        text-align: right;\n",
              "    }\n",
              "</style>\n",
              "<table border=\"1\" class=\"dataframe\">\n",
              "  <thead>\n",
              "    <tr style=\"text-align: right;\">\n",
              "      <th></th>\n",
              "      <th>source_system_tab</th>\n",
              "      <th>source_screen_name</th>\n",
              "      <th>source_type</th>\n",
              "      <th>target</th>\n",
              "      <th>city</th>\n",
              "      <th>bd</th>\n",
              "      <th>registered_via</th>\n",
              "      <th>song_length</th>\n",
              "      <th>language</th>\n",
              "      <th>membership_days</th>\n",
              "      <th>registration_year</th>\n",
              "      <th>expiration_year</th>\n",
              "    </tr>\n",
              "  </thead>\n",
              "  <tbody>\n",
              "    <tr>\n",
              "      <th>0</th>\n",
              "      <td>explore</td>\n",
              "      <td>Explore</td>\n",
              "      <td>online-playlist</td>\n",
              "      <td>1.0</td>\n",
              "      <td>1</td>\n",
              "      <td>0</td>\n",
              "      <td>7</td>\n",
              "      <td>NaN</td>\n",
              "      <td>NaN</td>\n",
              "      <td>2103</td>\n",
              "      <td>2012</td>\n",
              "      <td>2017</td>\n",
              "    </tr>\n",
              "    <tr>\n",
              "      <th>1</th>\n",
              "      <td>my library</td>\n",
              "      <td>Local playlist more</td>\n",
              "      <td>local-playlist</td>\n",
              "      <td>1.0</td>\n",
              "      <td>13</td>\n",
              "      <td>24</td>\n",
              "      <td>9</td>\n",
              "      <td>NaN</td>\n",
              "      <td>NaN</td>\n",
              "      <td>2301</td>\n",
              "      <td>2011</td>\n",
              "      <td>2017</td>\n",
              "    </tr>\n",
              "    <tr>\n",
              "      <th>2</th>\n",
              "      <td>my library</td>\n",
              "      <td>Local playlist more</td>\n",
              "      <td>local-playlist</td>\n",
              "      <td>1.0</td>\n",
              "      <td>13</td>\n",
              "      <td>24</td>\n",
              "      <td>9</td>\n",
              "      <td>225396.0</td>\n",
              "      <td>52.0</td>\n",
              "      <td>2301</td>\n",
              "      <td>2011</td>\n",
              "      <td>2017</td>\n",
              "    </tr>\n",
              "    <tr>\n",
              "      <th>3</th>\n",
              "      <td>my library</td>\n",
              "      <td>Local playlist more</td>\n",
              "      <td>local-playlist</td>\n",
              "      <td>1.0</td>\n",
              "      <td>13</td>\n",
              "      <td>24</td>\n",
              "      <td>9</td>\n",
              "      <td>NaN</td>\n",
              "      <td>NaN</td>\n",
              "      <td>2301</td>\n",
              "      <td>2011</td>\n",
              "      <td>2017</td>\n",
              "    </tr>\n",
              "    <tr>\n",
              "      <th>4</th>\n",
              "      <td>explore</td>\n",
              "      <td>Explore</td>\n",
              "      <td>online-playlist</td>\n",
              "      <td>1.0</td>\n",
              "      <td>1</td>\n",
              "      <td>0</td>\n",
              "      <td>7</td>\n",
              "      <td>NaN</td>\n",
              "      <td>NaN</td>\n",
              "      <td>2103</td>\n",
              "      <td>2012</td>\n",
              "      <td>2017</td>\n",
              "    </tr>\n",
              "  </tbody>\n",
              "</table>\n",
              "</div>"
            ],
            "text/plain": [
              "  source_system_tab   source_screen_name  ... registration_year  expiration_year\n",
              "0           explore              Explore  ...              2012             2017\n",
              "1        my library  Local playlist more  ...              2011             2017\n",
              "2        my library  Local playlist more  ...              2011             2017\n",
              "3        my library  Local playlist more  ...              2011             2017\n",
              "4           explore              Explore  ...              2012             2017\n",
              "\n",
              "[5 rows x 12 columns]"
            ]
          },
          "metadata": {},
          "execution_count": 42
        }
      ]
    },
    {
      "cell_type": "code",
      "metadata": {
        "id": "h7pMLzZzKhpW"
      },
      "source": [
        "label_encoding = ['source_system_tab', 'source_screen_name',\n",
        "       'source_type']"
      ],
      "execution_count": null,
      "outputs": []
    },
    {
      "cell_type": "code",
      "metadata": {
        "id": "eAUfRcEMKjg0"
      },
      "source": [
        "from sklearn.preprocessing import LabelEncoder"
      ],
      "execution_count": null,
      "outputs": []
    },
    {
      "cell_type": "code",
      "metadata": {
        "id": "Umpd0dt1Km3y"
      },
      "source": [
        "for f in label_encoding:\n",
        "    lb = LabelEncoder()\n",
        "    lb.fit(list(train_data[f].values) )\n",
        "    train_data[f] = lb.transform(list(train_data[f].values))"
      ],
      "execution_count": null,
      "outputs": []
    },
    {
      "cell_type": "code",
      "metadata": {
        "id": "4p900xcIKq1F"
      },
      "source": [
        "for col in train_data.columns:\n",
        "    if train_data[col].dtype == object:\n",
        "        train_data[col] = train_data[col].astype('category')"
      ],
      "execution_count": null,
      "outputs": []
    },
    {
      "cell_type": "code",
      "metadata": {
        "colab": {
          "base_uri": "https://localhost:8080/"
        },
        "id": "xiDfokREKwx3",
        "outputId": "0f2a0b60-8c84-4464-854b-5bd107ccb767"
      },
      "source": [
        "print('train data')\n",
        "miss_val(train_data)"
      ],
      "execution_count": null,
      "outputs": [
        {
          "output_type": "stream",
          "name": "stdout",
          "text": [
            "train data\n",
            "source_system_tab has 0.0 % missing values\n",
            "source_screen_name has 0.0 % missing values\n",
            "source_type has 0.0 % missing values\n",
            "target has 0.00029732703000029734 % missing values\n",
            "city has 0.0 % missing values\n",
            "bd has 0.0 % missing values\n",
            "registered_via has 0.0 % missing values\n",
            "song_length has 29.203460886629202 % missing values\n",
            "language has 29.203460886629202 % missing values\n",
            "membership_days has 0.0 % missing values\n",
            "registration_year has 0.0 % missing values\n",
            "expiration_year has 0.0 % missing values\n"
          ]
        }
      ]
    },
    {
      "cell_type": "code",
      "metadata": {
        "colab": {
          "base_uri": "https://localhost:8080/"
        },
        "id": "BTv1xJh4Kyl-",
        "outputId": "419c4c97-33dc-4767-e5d1-4f6f155e298e"
      },
      "source": [
        "train_data['song_length'].value_counts()"
      ],
      "execution_count": null,
      "outputs": [
        {
          "output_type": "execute_result",
          "data": {
            "text/plain": [
              "219324.0    1368\n",
              "227343.0    1292\n",
              "290063.0    1096\n",
              "258298.0     982\n",
              "283846.0     946\n",
              "            ... \n",
              "370172.0       1\n",
              "151812.0       1\n",
              "370207.0       1\n",
              "185132.0       1\n",
              "276596.0       1\n",
              "Name: song_length, Length: 15109, dtype: int64"
            ]
          },
          "metadata": {},
          "execution_count": 48
        }
      ]
    },
    {
      "cell_type": "code",
      "metadata": {
        "id": "DBSn02otK4I_"
      },
      "source": [
        "#replace with Into \n",
        "train_data['song_length'].fillna(235415.0 ,inplace=True)"
      ],
      "execution_count": null,
      "outputs": []
    },
    {
      "cell_type": "code",
      "metadata": {
        "colab": {
          "base_uri": "https://localhost:8080/"
        },
        "id": "q6qZdQm3K8iR",
        "outputId": "19331e67-d223-413e-f9ef-9f2edca154c0"
      },
      "source": [
        "\n",
        "train_data['language'].value_counts()"
      ],
      "execution_count": null,
      "outputs": [
        {
          "output_type": "execute_result",
          "data": {
            "text/plain": [
              " 3.0     135442\n",
              " 52.0     57864\n",
              " 31.0     22604\n",
              "-1.0       8214\n",
              " 17.0      5883\n",
              " 10.0      5491\n",
              " 24.0      2462\n",
              " 59.0       104\n",
              " 45.0        44\n",
              " 38.0         2\n",
              "Name: language, dtype: int64"
            ]
          },
          "metadata": {},
          "execution_count": 50
        }
      ]
    },
    {
      "cell_type": "code",
      "metadata": {
        "id": "iYkZPyc6LBAl"
      },
      "source": [
        "train_data['language'].fillna(3.0 ,inplace=True)"
      ],
      "execution_count": null,
      "outputs": []
    },
    {
      "cell_type": "code",
      "metadata": {
        "colab": {
          "base_uri": "https://localhost:8080/"
        },
        "id": "1aRiGJw0LCss",
        "outputId": "c7fa1b66-3262-4b4e-c704-8fd1d327da4b"
      },
      "source": [
        "print('train data')\n",
        "miss_val(train_data)"
      ],
      "execution_count": null,
      "outputs": [
        {
          "output_type": "stream",
          "name": "stdout",
          "text": [
            "train data\n",
            "source_system_tab has 0.0 % missing values\n",
            "source_screen_name has 0.0 % missing values\n",
            "source_type has 0.0 % missing values\n",
            "target has 0.00029732703000029734 % missing values\n",
            "city has 0.0 % missing values\n",
            "bd has 0.0 % missing values\n",
            "registered_via has 0.0 % missing values\n",
            "song_length has 0.0 % missing values\n",
            "language has 0.0 % missing values\n",
            "membership_days has 0.0 % missing values\n",
            "registration_year has 0.0 % missing values\n",
            "expiration_year has 0.0 % missing values\n"
          ]
        }
      ]
    },
    {
      "cell_type": "code",
      "metadata": {
        "id": "RgfgTVf0LIR9"
      },
      "source": [
        "train_data.replace([np.inf,-np.inf],np.nan, inplace =True)"
      ],
      "execution_count": null,
      "outputs": []
    },
    {
      "cell_type": "code",
      "metadata": {
        "colab": {
          "base_uri": "https://localhost:8080/"
        },
        "id": "KhC6pYaBLJ_X",
        "outputId": "5c12dc3e-bf18-44c7-ca6e-27d269e7c15f"
      },
      "source": [
        "print('train data')\n",
        "miss_val(train_data)"
      ],
      "execution_count": null,
      "outputs": [
        {
          "output_type": "stream",
          "name": "stdout",
          "text": [
            "train data\n",
            "source_system_tab has 0.0 % missing values\n",
            "source_screen_name has 0.0 % missing values\n",
            "source_type has 0.0 % missing values\n",
            "target has 0.00029732703000029734 % missing values\n",
            "city has 0.0 % missing values\n",
            "bd has 0.0 % missing values\n",
            "registered_via has 0.0 % missing values\n",
            "song_length has 0.0 % missing values\n",
            "language has 0.0 % missing values\n",
            "membership_days has 0.0 % missing values\n",
            "registration_year has 0.0 % missing values\n",
            "expiration_year has 0.0 % missing values\n"
          ]
        }
      ]
    },
    {
      "cell_type": "markdown",
      "metadata": {
        "id": "5dfkcM_9LN2d"
      },
      "source": [
        "(MODEL BUILDING)"
      ]
    },
    {
      "cell_type": "code",
      "metadata": {
        "id": "fmZTYez2LQll"
      },
      "source": [
        "from sklearn.preprocessing import StandardScaler\n",
        "#from sklearn.linear_model import LogisticRegression\n",
        "from sklearn.svm import SVC\n",
        "from sklearn.model_selection import train_test_split\n",
        "from sklearn.metrics import accuracy_score\n",
        "from sklearn.metrics import confusion_matrix\n",
        "from sklearn.metrics import accuracy_score"
      ],
      "execution_count": null,
      "outputs": []
    },
    {
      "cell_type": "code",
      "metadata": {
        "colab": {
          "base_uri": "https://localhost:8080/"
        },
        "id": "fIb8yDdwLZNU",
        "outputId": "4c97b51d-53d2-4010-b674-aa8f754e63d6"
      },
      "source": [
        "train_data.shape"
      ],
      "execution_count": null,
      "outputs": [
        {
          "output_type": "execute_result",
          "data": {
            "text/plain": [
              "(336330, 12)"
            ]
          },
          "metadata": {},
          "execution_count": 56
        }
      ]
    },
    {
      "cell_type": "code",
      "metadata": {
        "id": "gXQDSORaLebm"
      },
      "source": [
        "train_data = train_data.sample(frac = 1)"
      ],
      "execution_count": null,
      "outputs": []
    },
    {
      "cell_type": "code",
      "metadata": {
        "id": "vBTeZSxHLjU_"
      },
      "source": [
        "train_data1=train_data[0:30000]"
      ],
      "execution_count": null,
      "outputs": []
    },
    {
      "cell_type": "code",
      "metadata": {
        "colab": {
          "base_uri": "https://localhost:8080/"
        },
        "id": "_9y61K50LmcV",
        "outputId": "d4faae7d-406b-4326-893f-26f5a3e290ed"
      },
      "source": [
        "train_data1.shape"
      ],
      "execution_count": null,
      "outputs": [
        {
          "output_type": "execute_result",
          "data": {
            "text/plain": [
              "(30000, 12)"
            ]
          },
          "metadata": {},
          "execution_count": 59
        }
      ]
    },
    {
      "cell_type": "code",
      "metadata": {
        "colab": {
          "base_uri": "https://localhost:8080/",
          "height": 224
        },
        "id": "JC6TcZ5sLooG",
        "outputId": "7cac649b-6a9a-47d0-f772-2559c70d77bc"
      },
      "source": [
        "\n",
        "train_data1.head()"
      ],
      "execution_count": null,
      "outputs": [
        {
          "output_type": "execute_result",
          "data": {
            "text/html": [
              "<div>\n",
              "<style scoped>\n",
              "    .dataframe tbody tr th:only-of-type {\n",
              "        vertical-align: middle;\n",
              "    }\n",
              "\n",
              "    .dataframe tbody tr th {\n",
              "        vertical-align: top;\n",
              "    }\n",
              "\n",
              "    .dataframe thead th {\n",
              "        text-align: right;\n",
              "    }\n",
              "</style>\n",
              "<table border=\"1\" class=\"dataframe\">\n",
              "  <thead>\n",
              "    <tr style=\"text-align: right;\">\n",
              "      <th></th>\n",
              "      <th>source_system_tab</th>\n",
              "      <th>source_screen_name</th>\n",
              "      <th>source_type</th>\n",
              "      <th>target</th>\n",
              "      <th>city</th>\n",
              "      <th>bd</th>\n",
              "      <th>registered_via</th>\n",
              "      <th>song_length</th>\n",
              "      <th>language</th>\n",
              "      <th>membership_days</th>\n",
              "      <th>registration_year</th>\n",
              "      <th>expiration_year</th>\n",
              "    </tr>\n",
              "  </thead>\n",
              "  <tbody>\n",
              "    <tr>\n",
              "      <th>161979</th>\n",
              "      <td>3</td>\n",
              "      <td>7</td>\n",
              "      <td>5</td>\n",
              "      <td>1.0</td>\n",
              "      <td>5</td>\n",
              "      <td>47</td>\n",
              "      <td>4</td>\n",
              "      <td>235415.0</td>\n",
              "      <td>3.0</td>\n",
              "      <td>570</td>\n",
              "      <td>2016</td>\n",
              "      <td>2017</td>\n",
              "    </tr>\n",
              "    <tr>\n",
              "      <th>109672</th>\n",
              "      <td>3</td>\n",
              "      <td>7</td>\n",
              "      <td>4</td>\n",
              "      <td>1.0</td>\n",
              "      <td>13</td>\n",
              "      <td>0</td>\n",
              "      <td>9</td>\n",
              "      <td>235415.0</td>\n",
              "      <td>3.0</td>\n",
              "      <td>825</td>\n",
              "      <td>2015</td>\n",
              "      <td>2018</td>\n",
              "    </tr>\n",
              "    <tr>\n",
              "      <th>183036</th>\n",
              "      <td>3</td>\n",
              "      <td>7</td>\n",
              "      <td>4</td>\n",
              "      <td>0.0</td>\n",
              "      <td>13</td>\n",
              "      <td>25</td>\n",
              "      <td>9</td>\n",
              "      <td>286928.0</td>\n",
              "      <td>3.0</td>\n",
              "      <td>2686</td>\n",
              "      <td>2010</td>\n",
              "      <td>2017</td>\n",
              "    </tr>\n",
              "    <tr>\n",
              "      <th>114901</th>\n",
              "      <td>3</td>\n",
              "      <td>7</td>\n",
              "      <td>4</td>\n",
              "      <td>1.0</td>\n",
              "      <td>1</td>\n",
              "      <td>0</td>\n",
              "      <td>7</td>\n",
              "      <td>235415.0</td>\n",
              "      <td>3.0</td>\n",
              "      <td>364</td>\n",
              "      <td>2016</td>\n",
              "      <td>2017</td>\n",
              "    </tr>\n",
              "    <tr>\n",
              "      <th>10151</th>\n",
              "      <td>3</td>\n",
              "      <td>7</td>\n",
              "      <td>5</td>\n",
              "      <td>1.0</td>\n",
              "      <td>4</td>\n",
              "      <td>20</td>\n",
              "      <td>3</td>\n",
              "      <td>222197.0</td>\n",
              "      <td>52.0</td>\n",
              "      <td>1530</td>\n",
              "      <td>2013</td>\n",
              "      <td>2017</td>\n",
              "    </tr>\n",
              "  </tbody>\n",
              "</table>\n",
              "</div>"
            ],
            "text/plain": [
              "        source_system_tab  ...  expiration_year\n",
              "161979                  3  ...             2017\n",
              "109672                  3  ...             2018\n",
              "183036                  3  ...             2017\n",
              "114901                  3  ...             2017\n",
              "10151                   3  ...             2017\n",
              "\n",
              "[5 rows x 12 columns]"
            ]
          },
          "metadata": {},
          "execution_count": 60
        }
      ]
    },
    {
      "cell_type": "code",
      "metadata": {
        "id": "aZ5jseaBLv9q"
      },
      "source": [
        "x = train_data1.drop(['target'], axis =1)\n",
        "y = train_data1['target']"
      ],
      "execution_count": null,
      "outputs": []
    },
    {
      "cell_type": "code",
      "metadata": {
        "id": "Zg9mqzDSLze9"
      },
      "source": [
        "x_train, x_test, y_train, y_test = train_test_split(x, y, test_size = 0.3, random_state = 0)"
      ],
      "execution_count": null,
      "outputs": []
    },
    {
      "cell_type": "code",
      "metadata": {
        "colab": {
          "base_uri": "https://localhost:8080/"
        },
        "id": "t031VD9oL3Mw",
        "outputId": "d781186e-c226-4b61-829e-dbeeead69b4a"
      },
      "source": [
        "x_train.info()"
      ],
      "execution_count": null,
      "outputs": [
        {
          "output_type": "stream",
          "name": "stdout",
          "text": [
            "<class 'pandas.core.frame.DataFrame'>\n",
            "Int64Index: 21000 entries, 321540 to 191575\n",
            "Data columns (total 11 columns):\n",
            " #   Column              Non-Null Count  Dtype  \n",
            "---  ------              --------------  -----  \n",
            " 0   source_system_tab   21000 non-null  int64  \n",
            " 1   source_screen_name  21000 non-null  int64  \n",
            " 2   source_type         21000 non-null  int64  \n",
            " 3   city                21000 non-null  int64  \n",
            " 4   bd                  21000 non-null  int64  \n",
            " 5   registered_via      21000 non-null  int64  \n",
            " 6   song_length         21000 non-null  float32\n",
            " 7   language            21000 non-null  float16\n",
            " 8   membership_days     21000 non-null  int64  \n",
            " 9   registration_year   21000 non-null  int64  \n",
            " 10  expiration_year     21000 non-null  int64  \n",
            "dtypes: float16(1), float32(1), int64(9)\n",
            "memory usage: 1.7 MB\n"
          ]
        }
      ]
    },
    {
      "cell_type": "code",
      "metadata": {
        "colab": {
          "base_uri": "https://localhost:8080/",
          "height": 317
        },
        "id": "41uIgD06MM-E",
        "outputId": "b6419a0c-80df-4ee1-82f9-d4f4242d69cd"
      },
      "source": [
        "\n",
        "x_train.describe()"
      ],
      "execution_count": null,
      "outputs": [
        {
          "output_type": "execute_result",
          "data": {
            "text/html": [
              "<div>\n",
              "<style scoped>\n",
              "    .dataframe tbody tr th:only-of-type {\n",
              "        vertical-align: middle;\n",
              "    }\n",
              "\n",
              "    .dataframe tbody tr th {\n",
              "        vertical-align: top;\n",
              "    }\n",
              "\n",
              "    .dataframe thead th {\n",
              "        text-align: right;\n",
              "    }\n",
              "</style>\n",
              "<table border=\"1\" class=\"dataframe\">\n",
              "  <thead>\n",
              "    <tr style=\"text-align: right;\">\n",
              "      <th></th>\n",
              "      <th>source_system_tab</th>\n",
              "      <th>source_screen_name</th>\n",
              "      <th>source_type</th>\n",
              "      <th>city</th>\n",
              "      <th>bd</th>\n",
              "      <th>registered_via</th>\n",
              "      <th>song_length</th>\n",
              "      <th>language</th>\n",
              "      <th>membership_days</th>\n",
              "      <th>registration_year</th>\n",
              "      <th>expiration_year</th>\n",
              "    </tr>\n",
              "  </thead>\n",
              "  <tbody>\n",
              "    <tr>\n",
              "      <th>count</th>\n",
              "      <td>21000.000000</td>\n",
              "      <td>21000.000000</td>\n",
              "      <td>21000.000000</td>\n",
              "      <td>21000.000000</td>\n",
              "      <td>21000.000000</td>\n",
              "      <td>21000.000000</td>\n",
              "      <td>2.100000e+04</td>\n",
              "      <td>21000.00000</td>\n",
              "      <td>21000.000000</td>\n",
              "      <td>21000.000000</td>\n",
              "      <td>21000.000000</td>\n",
              "    </tr>\n",
              "    <tr>\n",
              "      <th>mean</th>\n",
              "      <td>2.572714</td>\n",
              "      <td>7.677048</td>\n",
              "      <td>4.845238</td>\n",
              "      <td>7.670000</td>\n",
              "      <td>17.401619</td>\n",
              "      <td>6.801952</td>\n",
              "      <td>2.430095e+05</td>\n",
              "      <td>inf</td>\n",
              "      <td>1655.999429</td>\n",
              "      <td>2012.665619</td>\n",
              "      <td>2017.064857</td>\n",
              "    </tr>\n",
              "    <tr>\n",
              "      <th>std</th>\n",
              "      <td>1.451847</td>\n",
              "      <td>3.314691</td>\n",
              "      <td>1.731144</td>\n",
              "      <td>6.614468</td>\n",
              "      <td>20.215637</td>\n",
              "      <td>2.288715</td>\n",
              "      <td>4.461648e+04</td>\n",
              "      <td>18.90625</td>\n",
              "      <td>1121.507982</td>\n",
              "      <td>3.007997</td>\n",
              "      <td>0.366697</td>\n",
              "    </tr>\n",
              "    <tr>\n",
              "      <th>min</th>\n",
              "      <td>0.000000</td>\n",
              "      <td>0.000000</td>\n",
              "      <td>0.000000</td>\n",
              "      <td>1.000000</td>\n",
              "      <td>-43.000000</td>\n",
              "      <td>3.000000</td>\n",
              "      <td>1.084000e+04</td>\n",
              "      <td>-1.00000</td>\n",
              "      <td>0.000000</td>\n",
              "      <td>2004.000000</td>\n",
              "      <td>2012.000000</td>\n",
              "    </tr>\n",
              "    <tr>\n",
              "      <th>25%</th>\n",
              "      <td>3.000000</td>\n",
              "      <td>7.000000</td>\n",
              "      <td>4.000000</td>\n",
              "      <td>1.000000</td>\n",
              "      <td>0.000000</td>\n",
              "      <td>4.000000</td>\n",
              "      <td>2.273780e+05</td>\n",
              "      <td>3.00000</td>\n",
              "      <td>730.000000</td>\n",
              "      <td>2011.000000</td>\n",
              "      <td>2017.000000</td>\n",
              "    </tr>\n",
              "    <tr>\n",
              "      <th>50%</th>\n",
              "      <td>3.000000</td>\n",
              "      <td>7.000000</td>\n",
              "      <td>4.000000</td>\n",
              "      <td>5.000000</td>\n",
              "      <td>21.000000</td>\n",
              "      <td>7.000000</td>\n",
              "      <td>2.354150e+05</td>\n",
              "      <td>3.00000</td>\n",
              "      <td>1442.500000</td>\n",
              "      <td>2013.000000</td>\n",
              "      <td>2017.000000</td>\n",
              "    </tr>\n",
              "    <tr>\n",
              "      <th>75%</th>\n",
              "      <td>3.000000</td>\n",
              "      <td>7.000000</td>\n",
              "      <td>6.000000</td>\n",
              "      <td>13.000000</td>\n",
              "      <td>28.000000</td>\n",
              "      <td>9.000000</td>\n",
              "      <td>2.602840e+05</td>\n",
              "      <td>17.00000</td>\n",
              "      <td>2290.000000</td>\n",
              "      <td>2015.000000</td>\n",
              "      <td>2017.000000</td>\n",
              "    </tr>\n",
              "    <tr>\n",
              "      <th>max</th>\n",
              "      <td>7.000000</td>\n",
              "      <td>18.000000</td>\n",
              "      <td>11.000000</td>\n",
              "      <td>22.000000</td>\n",
              "      <td>1030.000000</td>\n",
              "      <td>13.000000</td>\n",
              "      <td>2.216960e+06</td>\n",
              "      <td>59.00000</td>\n",
              "      <td>5141.000000</td>\n",
              "      <td>2016.000000</td>\n",
              "      <td>2019.000000</td>\n",
              "    </tr>\n",
              "  </tbody>\n",
              "</table>\n",
              "</div>"
            ],
            "text/plain": [
              "       source_system_tab  ...  expiration_year\n",
              "count       21000.000000  ...     21000.000000\n",
              "mean            2.572714  ...      2017.064857\n",
              "std             1.451847  ...         0.366697\n",
              "min             0.000000  ...      2012.000000\n",
              "25%             3.000000  ...      2017.000000\n",
              "50%             3.000000  ...      2017.000000\n",
              "75%             3.000000  ...      2017.000000\n",
              "max             7.000000  ...      2019.000000\n",
              "\n",
              "[8 rows x 11 columns]"
            ]
          },
          "metadata": {},
          "execution_count": 64
        }
      ]
    },
    {
      "cell_type": "code",
      "metadata": {
        "id": "CldoM2w4MPNX"
      },
      "source": [
        "sc=StandardScaler()\n",
        "x_train=sc.fit_transform(x_train)\n",
        "x_test=sc.fit_transform(x_test)"
      ],
      "execution_count": null,
      "outputs": []
    },
    {
      "cell_type": "code",
      "metadata": {
        "colab": {
          "base_uri": "https://localhost:8080/"
        },
        "id": "hxivFYueMTtK",
        "outputId": "fe1aacae-0fad-4bc9-895e-aab9732d0ed1"
      },
      "source": [
        "np.isnan(x_test.any())"
      ],
      "execution_count": null,
      "outputs": [
        {
          "output_type": "execute_result",
          "data": {
            "text/plain": [
              "False"
            ]
          },
          "metadata": {},
          "execution_count": 66
        }
      ]
    },
    {
      "cell_type": "code",
      "metadata": {
        "colab": {
          "base_uri": "https://localhost:8080/"
        },
        "id": "Ug_r849wMZSL",
        "outputId": "4a02d11a-7a38-4644-b9b4-a3721775d454"
      },
      "source": [
        "clf = SVC(kernel='linear', C=1.0, random_state=0)\n",
        "\n",
        "clf.fit(x_train, y_train)"
      ],
      "execution_count": null,
      "outputs": [
        {
          "output_type": "execute_result",
          "data": {
            "text/plain": [
              "SVC(C=1.0, break_ties=False, cache_size=200, class_weight=None, coef0=0.0,\n",
              "    decision_function_shape='ovr', degree=3, gamma='scale', kernel='linear',\n",
              "    max_iter=-1, probability=False, random_state=0, shrinking=True, tol=0.001,\n",
              "    verbose=False)"
            ]
          },
          "metadata": {},
          "execution_count": 67
        }
      ]
    },
    {
      "cell_type": "code",
      "metadata": {
        "colab": {
          "base_uri": "https://localhost:8080/"
        },
        "id": "o5JHzwuyMg33",
        "outputId": "5c9ad9b6-b554-4975-89bd-12e267e86f2b"
      },
      "source": [
        "y_pp=clf.predict(x_test)\n",
        "print (\"Test - Accuracy :\", accuracy_score(y_test, y_pp))\n",
        "print (\"Test -  Confusion matrix :\\n\",confusion_matrix(y_test, y_pp))"
      ],
      "execution_count": null,
      "outputs": [
        {
          "output_type": "stream",
          "name": "stdout",
          "text": [
            "Test - Accuracy : 0.7406666666666667\n",
            "Test -  Confusion matrix :\n",
            " [[   0 2334]\n",
            " [   0 6666]]\n"
          ]
        }
      ]
    }
  ]
}